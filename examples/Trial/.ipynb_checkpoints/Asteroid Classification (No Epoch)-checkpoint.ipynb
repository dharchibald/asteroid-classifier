{
 "cells": [
  {
   "cell_type": "markdown",
   "metadata": {},
   "source": [
    "<img src=\"https://cybersecurity-excellence-awards.com/wp-content/uploads/2017/06/366812.png\">"
   ]
  },
  {
   "cell_type": "markdown",
   "metadata": {},
   "source": [
    "<h1><center>Darwin Supervised Classification Model Building </center></h1>"
   ]
  },
  {
   "cell_type": "markdown",
   "metadata": {},
   "source": [
    "Prior to getting started, there are a few things you want to do:\n",
    "1. Set the dataset path.\n",
    "2. Enter your username and password to ensure that you're able to log in successfully\n",
    "\n",
    "Once you're up and running, here are a few things to be mindful of:\n",
    "1. For every run, look up the job status (i.e. requested, failed, running, completed) and wait for job to complete before proceeding. \n",
    "2. If you're not satisfied with your model and think that Darwin can do better by exploring a larger search space, use the resume function."
   ]
  },
  {
   "cell_type": "markdown",
   "metadata": {},
   "source": [
    "## Import libraries"
   ]
  },
  {
   "cell_type": "code",
   "execution_count": 1,
   "metadata": {
    "scrolled": true
   },
   "outputs": [],
   "source": [
    "# Import necessary libraries\n",
    "import warnings\n",
    "warnings.filterwarnings(\"ignore\", message=\"numpy.dtype size changed\")\n",
    "%matplotlib inline\n",
    "import matplotlib.pyplot as plt\n",
    "import pandas as pd\n",
    "from IPython.display import Image\n",
    "from time import sleep\n",
    "import os\n",
    "import numpy as np\n",
    "from sklearn.metrics import classification_report\n",
    "\n",
    "from amb_sdk.sdk import DarwinSdk"
   ]
  },
  {
   "cell_type": "markdown",
   "metadata": {},
   "source": [
    "## Setup"
   ]
  },
  {
   "cell_type": "markdown",
   "metadata": {},
   "source": [
    "**Login to Darwin**<br>\n",
    "Enter your registered username and password below to login to Darwin."
   ]
  },
  {
   "cell_type": "code",
   "execution_count": 2,
   "metadata": {},
   "outputs": [],
   "source": [
    "# Login\n",
    "ds = DarwinSdk()\n",
    "ds.set_url('https://amb-demo-api.sparkcognition.com/v1/')\n",
    "status, msg = ds.auth_login_user('d.archibald84@gmail.com', 'aDeuVK8S2v')\n",
    "\n",
    "if not status:\n",
    "    print(msg)"
   ]
  },
  {
   "cell_type": "markdown",
   "metadata": {},
   "source": [
    "**Data Path** <br>\n",
    "In the cell below, set the path to your dataset, the default is Darwin's example datasets"
   ]
  },
  {
   "cell_type": "code",
   "execution_count": 3,
   "metadata": {
    "scrolled": true
   },
   "outputs": [],
   "source": [
    "path = '../../sets/'"
   ]
  },
  {
   "cell_type": "markdown",
   "metadata": {},
   "source": [
    "## Data Upload and Clean"
   ]
  },
  {
   "cell_type": "markdown",
   "metadata": {},
   "source": [
    "**Read dataset and view a file snippet**"
   ]
  },
  {
   "cell_type": "markdown",
   "metadata": {},
   "source": [
    "After setting up the dataset path, the next step is to upload the dataset from your local device to the server. <br> In the cell below, you need to specify the dataset_name if you want to use your own data."
   ]
  },
  {
   "cell_type": "code",
   "execution_count": 17,
   "metadata": {},
   "outputs": [
    {
     "data": {
      "text/html": [
       "<div>\n",
       "<style scoped>\n",
       "    .dataframe tbody tr th:only-of-type {\n",
       "        vertical-align: middle;\n",
       "    }\n",
       "\n",
       "    .dataframe tbody tr th {\n",
       "        vertical-align: top;\n",
       "    }\n",
       "\n",
       "    .dataframe thead th {\n",
       "        text-align: right;\n",
       "    }\n",
       "</style>\n",
       "<table border=\"1\" class=\"dataframe\">\n",
       "  <thead>\n",
       "    <tr style=\"text-align: right;\">\n",
       "      <th></th>\n",
       "      <th>Object</th>\n",
       "      <th>a (AU)</th>\n",
       "      <th>e</th>\n",
       "      <th>i (deg)</th>\n",
       "      <th>w (deg)</th>\n",
       "      <th>Node (deg)</th>\n",
       "      <th>q (AU)</th>\n",
       "      <th>Q (AU)</th>\n",
       "      <th>P (yr)</th>\n",
       "      <th>H (mag)</th>\n",
       "      <th>MOID (AU)</th>\n",
       "      <th>ref</th>\n",
       "      <th>class</th>\n",
       "      <th>Object.1</th>\n",
       "    </tr>\n",
       "  </thead>\n",
       "  <tbody>\n",
       "    <tr>\n",
       "      <th>0</th>\n",
       "      <td>1566 Icarus</td>\n",
       "      <td>1.078066</td>\n",
       "      <td>0.826854</td>\n",
       "      <td>22.825495</td>\n",
       "      <td>31.382966</td>\n",
       "      <td>88.010681</td>\n",
       "      <td>0.1867</td>\n",
       "      <td>1.97</td>\n",
       "      <td>1.12</td>\n",
       "      <td>16.90</td>\n",
       "      <td>0.034507</td>\n",
       "      <td>100</td>\n",
       "      <td>APO*</td>\n",
       "      <td>1566 Icarus</td>\n",
       "    </tr>\n",
       "    <tr>\n",
       "      <th>1</th>\n",
       "      <td>1620 Geographos</td>\n",
       "      <td>1.245304</td>\n",
       "      <td>0.335342</td>\n",
       "      <td>13.337482</td>\n",
       "      <td>276.893024</td>\n",
       "      <td>337.207958</td>\n",
       "      <td>0.8277</td>\n",
       "      <td>1.66</td>\n",
       "      <td>1.39</td>\n",
       "      <td>15.60</td>\n",
       "      <td>0.030669</td>\n",
       "      <td>448</td>\n",
       "      <td>APO*</td>\n",
       "      <td>1620 Geographos</td>\n",
       "    </tr>\n",
       "    <tr>\n",
       "      <th>2</th>\n",
       "      <td>1862 Apollo</td>\n",
       "      <td>1.470264</td>\n",
       "      <td>0.559922</td>\n",
       "      <td>6.352995</td>\n",
       "      <td>285.852564</td>\n",
       "      <td>35.736768</td>\n",
       "      <td>0.6470</td>\n",
       "      <td>2.29</td>\n",
       "      <td>1.78</td>\n",
       "      <td>16.25</td>\n",
       "      <td>0.025795</td>\n",
       "      <td>263</td>\n",
       "      <td>APO*</td>\n",
       "      <td>1862 Apollo</td>\n",
       "    </tr>\n",
       "    <tr>\n",
       "      <th>3</th>\n",
       "      <td>1981 Midas</td>\n",
       "      <td>1.776025</td>\n",
       "      <td>0.650141</td>\n",
       "      <td>39.832538</td>\n",
       "      <td>267.791993</td>\n",
       "      <td>356.903343</td>\n",
       "      <td>0.6214</td>\n",
       "      <td>2.93</td>\n",
       "      <td>2.37</td>\n",
       "      <td>15.20</td>\n",
       "      <td>0.003551</td>\n",
       "      <td>118</td>\n",
       "      <td>APO*</td>\n",
       "      <td>1981 Midas</td>\n",
       "    </tr>\n",
       "    <tr>\n",
       "      <th>4</th>\n",
       "      <td>2101 Adonis</td>\n",
       "      <td>1.874123</td>\n",
       "      <td>0.764602</td>\n",
       "      <td>1.326400</td>\n",
       "      <td>43.388048</td>\n",
       "      <td>349.694944</td>\n",
       "      <td>0.4412</td>\n",
       "      <td>3.31</td>\n",
       "      <td>2.57</td>\n",
       "      <td>18.80</td>\n",
       "      <td>0.011645</td>\n",
       "      <td>33</td>\n",
       "      <td>APO*</td>\n",
       "      <td>2101 Adonis</td>\n",
       "    </tr>\n",
       "  </tbody>\n",
       "</table>\n",
       "</div>"
      ],
      "text/plain": [
       "            Object    a (AU)         e    i (deg)     w (deg)  Node (deg)  \\\n",
       "0      1566 Icarus  1.078066  0.826854  22.825495   31.382966   88.010681   \n",
       "1  1620 Geographos  1.245304  0.335342  13.337482  276.893024  337.207958   \n",
       "2      1862 Apollo  1.470264  0.559922   6.352995  285.852564   35.736768   \n",
       "3       1981 Midas  1.776025  0.650141  39.832538  267.791993  356.903343   \n",
       "4      2101 Adonis  1.874123  0.764602   1.326400   43.388048  349.694944   \n",
       "\n",
       "   q (AU)  Q (AU)  P (yr)  H (mag)  MOID (AU)  ref class         Object.1  \n",
       "0  0.1867    1.97    1.12    16.90   0.034507  100  APO*      1566 Icarus  \n",
       "1  0.8277    1.66    1.39    15.60   0.030669  448  APO*  1620 Geographos  \n",
       "2  0.6470    2.29    1.78    16.25   0.025795  263  APO*      1862 Apollo  \n",
       "3  0.6214    2.93    2.37    15.20   0.003551  118  APO*       1981 Midas  \n",
       "4  0.4412    3.31    2.57    18.80   0.011645   33  APO*      2101 Adonis  "
      ]
     },
     "execution_count": 17,
     "metadata": {},
     "output_type": "execute_result"
    }
   ],
   "source": [
    "dataset_name = 'pha_no_epoch2.csv'\n",
    "df = pd.read_csv(os.path.join(path, dataset_name))\n",
    "df.head()"
   ]
  },
  {
   "cell_type": "markdown",
   "metadata": {},
   "source": [
    "**Upload dataset to Darwin**"
   ]
  },
  {
   "cell_type": "code",
   "execution_count": 18,
   "metadata": {
    "scrolled": true
   },
   "outputs": [],
   "source": [
    "# Upload dataset\n",
    "ds.delete_dataset(dataset_name)\n",
    "status, dataset = ds.upload_dataset(os.path.join(path, dataset_name))\n",
    "if not status:\n",
    "    print(dataset)"
   ]
  },
  {
   "cell_type": "markdown",
   "metadata": {},
   "source": [
    "**Clean dataset**"
   ]
  },
  {
   "cell_type": "code",
   "execution_count": 19,
   "metadata": {},
   "outputs": [
    {
     "name": "stdout",
     "output_type": "stream",
     "text": [
      "{'status': 'Requested', 'starttime': '2019-04-22T11:12:50.535707', 'endtime': None, 'percent_complete': 0, 'job_type': 'CleanDataTiny', 'loss': None, 'generations': None, 'dataset_names': ['pha_no_epoch2.csv'], 'artifact_names': ['ef82cdf264d849a1ac379b24a2877b80'], 'model_name': None, 'job_error': None}\n",
      "{'status': 'Requested', 'starttime': '2019-04-22T11:12:50.535707', 'endtime': None, 'percent_complete': 0, 'job_type': 'CleanDataTiny', 'loss': None, 'generations': None, 'dataset_names': ['pha_no_epoch2.csv'], 'artifact_names': ['ef82cdf264d849a1ac379b24a2877b80'], 'model_name': None, 'job_error': None}\n",
      "{'status': 'Requested', 'starttime': '2019-04-22T11:12:50.535707', 'endtime': None, 'percent_complete': 0, 'job_type': 'CleanDataTiny', 'loss': None, 'generations': None, 'dataset_names': ['pha_no_epoch2.csv'], 'artifact_names': ['ef82cdf264d849a1ac379b24a2877b80'], 'model_name': None, 'job_error': None}\n",
      "{'status': 'Requested', 'starttime': '2019-04-22T11:12:50.535707', 'endtime': None, 'percent_complete': 0, 'job_type': 'CleanDataTiny', 'loss': None, 'generations': None, 'dataset_names': ['pha_no_epoch2.csv'], 'artifact_names': ['ef82cdf264d849a1ac379b24a2877b80'], 'model_name': None, 'job_error': None}\n",
      "{'status': 'Requested', 'starttime': '2019-04-22T11:12:50.535707', 'endtime': None, 'percent_complete': 0, 'job_type': 'CleanDataTiny', 'loss': None, 'generations': None, 'dataset_names': ['pha_no_epoch2.csv'], 'artifact_names': ['ef82cdf264d849a1ac379b24a2877b80'], 'model_name': None, 'job_error': None}\n",
      "{'status': 'Requested', 'starttime': '2019-04-22T11:12:50.535707', 'endtime': None, 'percent_complete': 0, 'job_type': 'CleanDataTiny', 'loss': None, 'generations': None, 'dataset_names': ['pha_no_epoch2.csv'], 'artifact_names': ['ef82cdf264d849a1ac379b24a2877b80'], 'model_name': None, 'job_error': None}\n",
      "{'status': 'Requested', 'starttime': '2019-04-22T11:12:50.535707', 'endtime': None, 'percent_complete': 0, 'job_type': 'CleanDataTiny', 'loss': None, 'generations': None, 'dataset_names': ['pha_no_epoch2.csv'], 'artifact_names': ['ef82cdf264d849a1ac379b24a2877b80'], 'model_name': None, 'job_error': None}\n",
      "{'status': 'Complete', 'starttime': '2019-04-22T11:12:50.535707', 'endtime': '2019-04-22T11:14:30.624506', 'percent_complete': 100, 'job_type': 'CleanDataTiny', 'loss': None, 'generations': None, 'dataset_names': ['pha_no_epoch2.csv'], 'artifact_names': ['ef82cdf264d849a1ac379b24a2877b80'], 'model_name': None, 'job_error': ''}\n"
     ]
    }
   ],
   "source": [
    "# clean dataset\n",
    "target = \"class\"\n",
    "status, job_id = ds.clean_data(dataset_name, target = target)\n",
    "\n",
    "if status:\n",
    "    ds.wait_for_job(job_id['job_name'])\n",
    "else:\n",
    "    print(job_id)"
   ]
  },
  {
   "cell_type": "markdown",
   "metadata": {},
   "source": [
    "## Create and Train Model "
   ]
  },
  {
   "cell_type": "markdown",
   "metadata": {},
   "source": [
    "We will now build a model that will learn the class labels in the target column.<br> In the default cancer dataset, the target column is \"Diagnosis\". <br> You will have to specify your own target name for your custom dataset. <br> You can also increase max_train_time for longer training.\n"
   ]
  },
  {
   "cell_type": "code",
   "execution_count": 20,
   "metadata": {
    "scrolled": true
   },
   "outputs": [
    {
     "name": "stdout",
     "output_type": "stream",
     "text": [
      "{'status': 'Requested', 'starttime': '2019-04-22T11:15:27.473627', 'endtime': None, 'percent_complete': 0, 'job_type': 'TrainModel', 'loss': None, 'generations': 0, 'dataset_names': ['pha_no_epoch2.csv'], 'artifact_names': None, 'model_name': 'class_model0', 'job_error': None}\n",
      "{'status': 'Requested', 'starttime': '2019-04-22T11:15:27.473627', 'endtime': None, 'percent_complete': 0, 'job_type': 'TrainModel', 'loss': None, 'generations': 0, 'dataset_names': ['pha_no_epoch2.csv'], 'artifact_names': None, 'model_name': 'class_model0', 'job_error': None}\n",
      "{'status': 'Requested', 'starttime': '2019-04-22T11:15:27.473627', 'endtime': None, 'percent_complete': 0, 'job_type': 'TrainModel', 'loss': None, 'generations': 0, 'dataset_names': ['pha_no_epoch2.csv'], 'artifact_names': None, 'model_name': 'class_model0', 'job_error': None}\n",
      "{'status': 'Requested', 'starttime': '2019-04-22T11:15:27.473627', 'endtime': None, 'percent_complete': 0, 'job_type': 'TrainModel', 'loss': None, 'generations': 0, 'dataset_names': ['pha_no_epoch2.csv'], 'artifact_names': None, 'model_name': 'class_model0', 'job_error': None}\n",
      "{'status': 'Requested', 'starttime': '2019-04-22T11:15:27.473627', 'endtime': None, 'percent_complete': 0, 'job_type': 'TrainModel', 'loss': None, 'generations': 0, 'dataset_names': ['pha_no_epoch2.csv'], 'artifact_names': None, 'model_name': 'class_model0', 'job_error': None}\n",
      "{'status': 'Running', 'starttime': '2019-04-22T11:15:27.473627', 'endtime': None, 'percent_complete': 0, 'job_type': 'TrainModel', 'loss': None, 'generations': 0, 'dataset_names': ['pha_no_epoch2.csv'], 'artifact_names': None, 'model_name': 'class_model0', 'job_error': ''}\n",
      "{'status': 'Running', 'starttime': '2019-04-22T11:15:27.473627', 'endtime': None, 'percent_complete': 3, 'job_type': 'TrainModel', 'loss': 1.2326314449310303, 'generations': 2, 'dataset_names': ['pha_no_epoch2.csv'], 'artifact_names': None, 'model_name': 'class_model0', 'job_error': ''}\n",
      "{'status': 'Running', 'starttime': '2019-04-22T11:15:27.473627', 'endtime': None, 'percent_complete': 3, 'job_type': 'TrainModel', 'loss': 1.2326314449310303, 'generations': 2, 'dataset_names': ['pha_no_epoch2.csv'], 'artifact_names': None, 'model_name': 'class_model0', 'job_error': ''}\n",
      "{'status': 'Running', 'starttime': '2019-04-22T11:15:27.473627', 'endtime': None, 'percent_complete': 3, 'job_type': 'TrainModel', 'loss': 1.2326314449310303, 'generations': 2, 'dataset_names': ['pha_no_epoch2.csv'], 'artifact_names': None, 'model_name': 'class_model0', 'job_error': ''}\n",
      "{'status': 'Running', 'starttime': '2019-04-22T11:15:27.473627', 'endtime': None, 'percent_complete': 3, 'job_type': 'TrainModel', 'loss': 1.2326314449310303, 'generations': 2, 'dataset_names': ['pha_no_epoch2.csv'], 'artifact_names': None, 'model_name': 'class_model0', 'job_error': ''}\n",
      "{'status': 'Running', 'starttime': '2019-04-22T11:15:27.473627', 'endtime': None, 'percent_complete': 25, 'job_type': 'TrainModel', 'loss': 1.2326314449310303, 'generations': 2, 'dataset_names': ['pha_no_epoch2.csv'], 'artifact_names': None, 'model_name': 'class_model0', 'job_error': ''}\n",
      "{'status': 'Running', 'starttime': '2019-04-22T11:15:27.473627', 'endtime': None, 'percent_complete': 25, 'job_type': 'TrainModel', 'loss': 1.2326314449310303, 'generations': 2, 'dataset_names': ['pha_no_epoch2.csv'], 'artifact_names': None, 'model_name': 'class_model0', 'job_error': ''}\n",
      "{'status': 'Running', 'starttime': '2019-04-22T11:15:27.473627', 'endtime': None, 'percent_complete': 50, 'job_type': 'TrainModel', 'loss': 1.2326314449310303, 'generations': 2, 'dataset_names': ['pha_no_epoch2.csv'], 'artifact_names': None, 'model_name': 'class_model0', 'job_error': ''}\n",
      "{'status': 'Running', 'starttime': '2019-04-22T11:15:27.473627', 'endtime': None, 'percent_complete': 60, 'job_type': 'TrainModel', 'loss': 1.2326314449310303, 'generations': 2, 'dataset_names': ['pha_no_epoch2.csv'], 'artifact_names': None, 'model_name': 'class_model0', 'job_error': ''}\n",
      "{'status': 'Complete', 'starttime': '2019-04-22T11:15:27.473627', 'endtime': '2019-04-22T11:18:57.909167', 'percent_complete': 100, 'job_type': 'TrainModel', 'loss': 1.2326314449310303, 'generations': 2, 'dataset_names': ['pha_no_epoch2.csv'], 'artifact_names': None, 'model_name': 'class_model0', 'job_error': ''}\n"
     ]
    }
   ],
   "source": [
    "model = target + \"_model0\"\n",
    "ds.delete_model(model)\n",
    "status, job_id = ds.create_model(dataset_names = dataset_name, \\\n",
    "                                 model_name =  model, \\\n",
    "                                 max_train_time = '00:02')\n",
    "if status:\n",
    "    ds.wait_for_job(job_id['job_name'])\n",
    "else:\n",
    "    print(job_id)"
   ]
  },
  {
   "cell_type": "markdown",
   "metadata": {},
   "source": [
    "## Extra Training (Optional)\n",
    "Run the following cell for extra training, no need to specify parameters"
   ]
  },
  {
   "cell_type": "code",
   "execution_count": 20,
   "metadata": {},
   "outputs": [
    {
     "name": "stdout",
     "output_type": "stream",
     "text": [
      "{'status': 'Requested', 'starttime': '2019-04-18T15:24:03.473112', 'endtime': None, 'percent_complete': 0, 'job_type': 'UpdateModel', 'loss': 1.2340340614318848, 'generations': 2, 'dataset_names': ['pha.csv'], 'artifact_names': None, 'model_name': 'class_model0', 'job_error': None}\n",
      "{'status': 'Running', 'starttime': '2019-04-18T15:24:03.473112', 'endtime': None, 'percent_complete': 0, 'job_type': 'UpdateModel', 'loss': 1.2340340614318848, 'generations': 5, 'dataset_names': ['pha.csv'], 'artifact_names': None, 'model_name': 'class_model0', 'job_error': ''}\n",
      "{'status': 'Running', 'starttime': '2019-04-18T15:24:03.473112', 'endtime': None, 'percent_complete': 0, 'job_type': 'UpdateModel', 'loss': 1.2340340614318848, 'generations': 5, 'dataset_names': ['pha.csv'], 'artifact_names': None, 'model_name': 'class_model0', 'job_error': ''}\n",
      "{'status': 'Running', 'starttime': '2019-04-18T15:24:03.473112', 'endtime': None, 'percent_complete': 0, 'job_type': 'UpdateModel', 'loss': 1.2340340614318848, 'generations': 5, 'dataset_names': ['pha.csv'], 'artifact_names': None, 'model_name': 'class_model0', 'job_error': ''}\n",
      "{'status': 'Running', 'starttime': '2019-04-18T15:24:03.473112', 'endtime': None, 'percent_complete': 12, 'job_type': 'UpdateModel', 'loss': 1.2340340614318848, 'generations': 5, 'dataset_names': ['pha.csv'], 'artifact_names': None, 'model_name': 'class_model0', 'job_error': ''}\n",
      "{'status': 'Running', 'starttime': '2019-04-18T15:24:03.473112', 'endtime': None, 'percent_complete': 12, 'job_type': 'UpdateModel', 'loss': 1.2340340614318848, 'generations': 5, 'dataset_names': ['pha.csv'], 'artifact_names': None, 'model_name': 'class_model0', 'job_error': ''}\n",
      "{'status': 'Running', 'starttime': '2019-04-18T15:24:03.473112', 'endtime': None, 'percent_complete': 20, 'job_type': 'UpdateModel', 'loss': 1.2340340614318848, 'generations': 5, 'dataset_names': ['pha.csv'], 'artifact_names': None, 'model_name': 'class_model0', 'job_error': ''}\n",
      "{'status': 'Running', 'starttime': '2019-04-18T15:24:03.473112', 'endtime': None, 'percent_complete': 27, 'job_type': 'UpdateModel', 'loss': 1.2340340614318848, 'generations': 5, 'dataset_names': ['pha.csv'], 'artifact_names': None, 'model_name': 'class_model0', 'job_error': ''}\n",
      "{'status': 'Running', 'starttime': '2019-04-18T15:24:03.473112', 'endtime': None, 'percent_complete': 33, 'job_type': 'UpdateModel', 'loss': 1.2340340614318848, 'generations': 6, 'dataset_names': ['pha.csv'], 'artifact_names': None, 'model_name': 'class_model0', 'job_error': ''}\n",
      "{'status': 'Running', 'starttime': '2019-04-18T15:24:03.473112', 'endtime': None, 'percent_complete': 33, 'job_type': 'UpdateModel', 'loss': 1.2340340614318848, 'generations': 6, 'dataset_names': ['pha.csv'], 'artifact_names': None, 'model_name': 'class_model0', 'job_error': ''}\n",
      "{'status': 'Running', 'starttime': '2019-04-18T15:24:03.473112', 'endtime': None, 'percent_complete': 38, 'job_type': 'UpdateModel', 'loss': 1.2340340614318848, 'generations': 7, 'dataset_names': ['pha.csv'], 'artifact_names': None, 'model_name': 'class_model0', 'job_error': ''}\n",
      "{'status': 'Running', 'starttime': '2019-04-18T15:24:03.473112', 'endtime': None, 'percent_complete': 46, 'job_type': 'UpdateModel', 'loss': 1.2340340614318848, 'generations': 8, 'dataset_names': ['pha.csv'], 'artifact_names': None, 'model_name': 'class_model0', 'job_error': ''}\n",
      "{'status': 'Running', 'starttime': '2019-04-18T15:24:03.473112', 'endtime': None, 'percent_complete': 46, 'job_type': 'UpdateModel', 'loss': 1.2340340614318848, 'generations': 8, 'dataset_names': ['pha.csv'], 'artifact_names': None, 'model_name': 'class_model0', 'job_error': ''}\n",
      "{'status': 'Running', 'starttime': '2019-04-18T15:24:03.473112', 'endtime': None, 'percent_complete': 53, 'job_type': 'UpdateModel', 'loss': 1.2340340614318848, 'generations': 9, 'dataset_names': ['pha.csv'], 'artifact_names': None, 'model_name': 'class_model0', 'job_error': ''}\n",
      "{'status': 'Running', 'starttime': '2019-04-18T15:24:03.473112', 'endtime': None, 'percent_complete': 53, 'job_type': 'UpdateModel', 'loss': 1.2340340614318848, 'generations': 9, 'dataset_names': ['pha.csv'], 'artifact_names': None, 'model_name': 'class_model0', 'job_error': ''}\n",
      "{'status': 'Running', 'starttime': '2019-04-18T15:24:03.473112', 'endtime': None, 'percent_complete': 61, 'job_type': 'UpdateModel', 'loss': 1.2340340614318848, 'generations': 10, 'dataset_names': ['pha.csv'], 'artifact_names': None, 'model_name': 'class_model0', 'job_error': ''}\n",
      "{'status': 'Running', 'starttime': '2019-04-18T15:24:03.473112', 'endtime': None, 'percent_complete': 69, 'job_type': 'UpdateModel', 'loss': 1.2340340614318848, 'generations': 11, 'dataset_names': ['pha.csv'], 'artifact_names': None, 'model_name': 'class_model0', 'job_error': ''}\n",
      "{'status': 'Running', 'starttime': '2019-04-18T15:24:03.473112', 'endtime': None, 'percent_complete': 69, 'job_type': 'UpdateModel', 'loss': 1.2340340614318848, 'generations': 11, 'dataset_names': ['pha.csv'], 'artifact_names': None, 'model_name': 'class_model0', 'job_error': ''}\n",
      "{'status': 'Running', 'starttime': '2019-04-18T15:24:03.473112', 'endtime': None, 'percent_complete': 76, 'job_type': 'UpdateModel', 'loss': 1.2340340614318848, 'generations': 12, 'dataset_names': ['pha.csv'], 'artifact_names': None, 'model_name': 'class_model0', 'job_error': ''}\n",
      "{'status': 'Running', 'starttime': '2019-04-18T15:24:03.473112', 'endtime': None, 'percent_complete': 84, 'job_type': 'UpdateModel', 'loss': 1.2340340614318848, 'generations': 13, 'dataset_names': ['pha.csv'], 'artifact_names': None, 'model_name': 'class_model0', 'job_error': ''}\n",
      "{'status': 'Running', 'starttime': '2019-04-18T15:24:03.473112', 'endtime': None, 'percent_complete': 84, 'job_type': 'UpdateModel', 'loss': 1.2340340614318848, 'generations': 13, 'dataset_names': ['pha.csv'], 'artifact_names': None, 'model_name': 'class_model0', 'job_error': ''}\n",
      "{'status': 'Complete', 'starttime': '2019-04-18T15:24:03.473112', 'endtime': '2019-04-18T15:29:12.147626', 'percent_complete': 100, 'job_type': 'UpdateModel', 'loss': 1.2340340614318848, 'generations': 13, 'dataset_names': ['pha.csv'], 'artifact_names': None, 'model_name': 'class_model0', 'job_error': ''}\n"
     ]
    }
   ],
   "source": [
    "# Train some more\n",
    "status, job_id = ds.resume_training_model(dataset_names = dataset_name,\n",
    "                                          model_name = model,\n",
    "                                          max_train_time = '00:05')\n",
    "                                          \n",
    "if status:\n",
    "    ds.wait_for_job(job_id['job_name'])\n",
    "else:\n",
    "    print(job_id)"
   ]
  },
  {
   "cell_type": "markdown",
   "metadata": {},
   "source": [
    "## Analyze Model\n",
    "Analyze model provides feature importance ranked by the model. <br> It indicates a general view of which features pose a bigger impact on the model"
   ]
  },
  {
   "cell_type": "code",
   "execution_count": 21,
   "metadata": {
    "scrolled": true
   },
   "outputs": [
    {
     "name": "stdout",
     "output_type": "stream",
     "text": [
      "{'status': 'Running', 'starttime': '2019-04-22T11:24:20.911972', 'endtime': None, 'percent_complete': 0, 'job_type': 'AnalyzeModel', 'loss': 1.2326314449310303, 'generations': 2, 'dataset_names': None, 'artifact_names': ['a1301fc710b246949478bf6c648b2823'], 'model_name': 'class_model0', 'job_error': ''}\n",
      "{'status': 'Complete', 'starttime': '2019-04-22T11:24:20.911972', 'endtime': '2019-04-22T11:24:29.131758', 'percent_complete': 100, 'job_type': 'AnalyzeModel', 'loss': 1.2326314449310303, 'generations': 2, 'dataset_names': None, 'artifact_names': ['a1301fc710b246949478bf6c648b2823'], 'model_name': 'class_model0', 'job_error': ''}\n"
     ]
    }
   ],
   "source": [
    "# Retrieve feature importance of built model\n",
    "status, artifact = ds.analyze_model(model)\n",
    "sleep(1)\n",
    "if status:\n",
    "    ds.wait_for_job(artifact['job_name'])\n",
    "else:\n",
    "    print(artifact)\n",
    "status, feature_importance = ds.download_artifact(artifact['artifact_name'])"
   ]
  },
  {
   "cell_type": "markdown",
   "metadata": {},
   "source": [
    "Show the 10 most important features of the model."
   ]
  },
  {
   "cell_type": "code",
   "execution_count": 22,
   "metadata": {},
   "outputs": [
    {
     "data": {
      "text/plain": [
       "q (AU)        0.306716\n",
       "a (AU)        0.212467\n",
       "P (yr)        0.187102\n",
       "Q (AU)        0.151378\n",
       "H (mag)       0.064191\n",
       "e             0.028190\n",
       "w (deg)       0.019114\n",
       "MOID (AU)     0.011001\n",
       "i (deg)       0.008080\n",
       "ref           0.006700\n",
       "Node (deg)    0.005061\n",
       "dtype: float64"
      ]
     },
     "execution_count": 22,
     "metadata": {},
     "output_type": "execute_result"
    }
   ],
   "source": [
    "feature_importance[:]"
   ]
  },
  {
   "cell_type": "markdown",
   "metadata": {},
   "source": [
    "## Predictions\n",
    "**Perform model prediction on the the training dataset.**"
   ]
  },
  {
   "cell_type": "code",
   "execution_count": 23,
   "metadata": {
    "scrolled": true
   },
   "outputs": [
    {
     "name": "stdout",
     "output_type": "stream",
     "text": [
      "{'status': 'Requested', 'starttime': '2019-04-22T11:25:25.742478', 'endtime': None, 'percent_complete': 0, 'job_type': 'RunModel', 'loss': 1.2326314449310303, 'generations': 2, 'dataset_names': ['pha_no_epoch2.csv'], 'artifact_names': ['3f1fd2f3004d4a7bbd11e930c4f39529'], 'model_name': 'class_model0', 'job_error': None}\n",
      "{'status': 'Complete', 'starttime': '2019-04-22T11:25:25.742478', 'endtime': '2019-04-22T11:25:37.455804', 'percent_complete': 100, 'job_type': 'RunModel', 'loss': 1.2326314449310303, 'generations': 2, 'dataset_names': ['pha_no_epoch2.csv'], 'artifact_names': ['3f1fd2f3004d4a7bbd11e930c4f39529'], 'model_name': 'class_model0', 'job_error': ''}\n"
     ]
    },
    {
     "data": {
      "text/plain": [
       "(True, 'Job completed')"
      ]
     },
     "execution_count": 23,
     "metadata": {},
     "output_type": "execute_result"
    }
   ],
   "source": [
    "status, artifact = ds.run_model(dataset_name, model)\n",
    "sleep(1)\n",
    "ds.wait_for_job(artifact['job_name'])"
   ]
  },
  {
   "cell_type": "markdown",
   "metadata": {},
   "source": [
    "Download predictions from Darwin's server."
   ]
  },
  {
   "cell_type": "code",
   "execution_count": 24,
   "metadata": {
    "scrolled": true
   },
   "outputs": [
    {
     "data": {
      "text/html": [
       "<div>\n",
       "<style scoped>\n",
       "    .dataframe tbody tr th:only-of-type {\n",
       "        vertical-align: middle;\n",
       "    }\n",
       "\n",
       "    .dataframe tbody tr th {\n",
       "        vertical-align: top;\n",
       "    }\n",
       "\n",
       "    .dataframe thead th {\n",
       "        text-align: right;\n",
       "    }\n",
       "</style>\n",
       "<table border=\"1\" class=\"dataframe\">\n",
       "  <thead>\n",
       "    <tr style=\"text-align: right;\">\n",
       "      <th></th>\n",
       "      <th>class</th>\n",
       "      <th>prob_AMO*</th>\n",
       "      <th>prob_APO</th>\n",
       "      <th>prob_APO*</th>\n",
       "      <th>prob_ATE</th>\n",
       "      <th>prob_ATE*</th>\n",
       "      <th>prob_IEO*</th>\n",
       "    </tr>\n",
       "  </thead>\n",
       "  <tbody>\n",
       "    <tr>\n",
       "      <th>0</th>\n",
       "      <td>APO*</td>\n",
       "      <td>0.045856</td>\n",
       "      <td>0.045849</td>\n",
       "      <td>0.770737</td>\n",
       "      <td>0.045849</td>\n",
       "      <td>0.045873</td>\n",
       "      <td>0.045835</td>\n",
       "    </tr>\n",
       "    <tr>\n",
       "      <th>1</th>\n",
       "      <td>APO*</td>\n",
       "      <td>0.045856</td>\n",
       "      <td>0.045849</td>\n",
       "      <td>0.770737</td>\n",
       "      <td>0.045849</td>\n",
       "      <td>0.045873</td>\n",
       "      <td>0.045835</td>\n",
       "    </tr>\n",
       "    <tr>\n",
       "      <th>2</th>\n",
       "      <td>APO*</td>\n",
       "      <td>0.045856</td>\n",
       "      <td>0.045849</td>\n",
       "      <td>0.770737</td>\n",
       "      <td>0.045849</td>\n",
       "      <td>0.045873</td>\n",
       "      <td>0.045835</td>\n",
       "    </tr>\n",
       "    <tr>\n",
       "      <th>3</th>\n",
       "      <td>APO*</td>\n",
       "      <td>0.045856</td>\n",
       "      <td>0.045849</td>\n",
       "      <td>0.770737</td>\n",
       "      <td>0.045849</td>\n",
       "      <td>0.045873</td>\n",
       "      <td>0.045835</td>\n",
       "    </tr>\n",
       "    <tr>\n",
       "      <th>4</th>\n",
       "      <td>APO*</td>\n",
       "      <td>0.045856</td>\n",
       "      <td>0.045849</td>\n",
       "      <td>0.770737</td>\n",
       "      <td>0.045849</td>\n",
       "      <td>0.045873</td>\n",
       "      <td>0.045835</td>\n",
       "    </tr>\n",
       "  </tbody>\n",
       "</table>\n",
       "</div>"
      ],
      "text/plain": [
       "  class  prob_AMO*  prob_APO  prob_APO*  prob_ATE  prob_ATE*  prob_IEO*\n",
       "0  APO*   0.045856  0.045849   0.770737  0.045849   0.045873   0.045835\n",
       "1  APO*   0.045856  0.045849   0.770737  0.045849   0.045873   0.045835\n",
       "2  APO*   0.045856  0.045849   0.770737  0.045849   0.045873   0.045835\n",
       "3  APO*   0.045856  0.045849   0.770737  0.045849   0.045873   0.045835\n",
       "4  APO*   0.045856  0.045849   0.770737  0.045849   0.045873   0.045835"
      ]
     },
     "execution_count": 24,
     "metadata": {},
     "output_type": "execute_result"
    }
   ],
   "source": [
    "status, prediction = ds.download_artifact(artifact['artifact_name'])\n",
    "prediction.head()"
   ]
  },
  {
   "cell_type": "markdown",
   "metadata": {},
   "source": [
    "Create plots comparing predictions with actual target"
   ]
  },
  {
   "cell_type": "code",
   "execution_count": 25,
   "metadata": {
    "scrolled": true
   },
   "outputs": [
    {
     "name": "stdout",
     "output_type": "stream",
     "text": [
      "              precision    recall  f1-score   support\n",
      "\n",
      "        AMO*       1.00      1.00      1.00        77\n",
      "         APO       1.00      1.00      1.00        11\n",
      "        APO*       1.00      1.00      1.00      1268\n",
      "         ATE       1.00      1.00      1.00         7\n",
      "        ATE*       1.00      1.00      1.00       132\n",
      "        IEO*       1.00      1.00      1.00         4\n",
      "\n",
      "   micro avg       1.00      1.00      1.00      1499\n",
      "   macro avg       1.00      1.00      1.00      1499\n",
      "weighted avg       1.00      1.00      1.00      1499\n",
      "\n"
     ]
    },
    {
     "data": {
      "image/png": "[encoded data removed]",
      "text/plain": [
       "<Figure size 432x288 with 1 Axes>"
      ]
     },
     "metadata": {
      "needs_background": "light"
     },
     "output_type": "display_data"
    }
   ],
   "source": [
    "unq = prediction[target].unique()[::-1]\n",
    "p = np.zeros((len(prediction),))\n",
    "a = np.zeros((len(prediction),))\n",
    "for i,q in enumerate(unq):\n",
    "    p += i*(prediction[target] == q).values\n",
    "    a += i*(df[target] == q).values\n",
    "#Plot predictions vs actual\n",
    "plt.plot(a)\n",
    "plt.plot(p)\n",
    "plt.legend(['Actual','Predicted'])\n",
    "plt.yticks([i for i in range(len(unq))],[q for q in unq]);\n",
    "print(classification_report(df[target], prediction[target]))"
   ]
  },
  {
   "cell_type": "markdown",
   "metadata": {},
   "source": [
    "**Perform model prediction on a test dataset that wasn't used in training.** <br>\n",
    "Upload test dataset"
   ]
  },
  {
   "cell_type": "code",
   "execution_count": 26,
   "metadata": {
    "scrolled": true
   },
   "outputs": [],
   "source": [
    "test_data = 'pha_no_epoch2_test.csv'\n",
    "ds.delete_dataset(test_data)\n",
    "status, dataset = ds.upload_dataset(os.path.join(path, test_data))\n",
    "if not status:\n",
    "    print(dataset)"
   ]
  },
  {
   "cell_type": "markdown",
   "metadata": {},
   "source": [
    "clean test data"
   ]
  },
  {
   "cell_type": "code",
   "execution_count": 27,
   "metadata": {},
   "outputs": [
    {
     "name": "stdout",
     "output_type": "stream",
     "text": [
      "{'status': 'Requested', 'starttime': '2019-04-22T11:26:05.203781', 'endtime': None, 'percent_complete': 0, 'job_type': 'CleanDataTiny', 'loss': None, 'generations': None, 'dataset_names': ['pha_no_epoch2_test.csv'], 'artifact_names': ['54a4055e70ce43d6909693d9698de44a'], 'model_name': None, 'job_error': None}\n",
      "{'status': 'Complete', 'starttime': '2019-04-22T11:26:05.203781', 'endtime': '2019-04-22T11:26:07.486136', 'percent_complete': 100, 'job_type': 'CleanDataTiny', 'loss': None, 'generations': None, 'dataset_names': ['pha_no_epoch2_test.csv'], 'artifact_names': ['54a4055e70ce43d6909693d9698de44a'], 'model_name': None, 'job_error': ''}\n"
     ]
    }
   ],
   "source": [
    "# clean test dataset\n",
    "status, job_id = ds.clean_data(test_data, target = target, model_name = model)\n",
    "\n",
    "if status:\n",
    "    ds.wait_for_job(job_id['job_name'])\n",
    "else:\n",
    "    print(job_id)"
   ]
  },
  {
   "cell_type": "markdown",
   "metadata": {},
   "source": [
    "Run model on test dataset."
   ]
  },
  {
   "cell_type": "code",
   "execution_count": 28,
   "metadata": {
    "scrolled": true
   },
   "outputs": [
    {
     "name": "stdout",
     "output_type": "stream",
     "text": [
      "{'status': 'Complete', 'starttime': '2019-04-22T11:26:47.535527', 'endtime': '2019-04-22T11:26:48.353708', 'percent_complete': 100, 'job_type': 'RunModel', 'loss': 1.2326314449310303, 'generations': 2, 'dataset_names': ['pha_no_epoch2_test.csv'], 'artifact_names': ['73b32a4394b64eb8b03eeaff9e572048'], 'model_name': 'class_model0', 'job_error': ''}\n"
     ]
    },
    {
     "data": {
      "text/plain": [
       "(True, 'Job completed')"
      ]
     },
     "execution_count": 28,
     "metadata": {},
     "output_type": "execute_result"
    }
   ],
   "source": [
    "status, artifact = ds.run_model(test_data, model)\n",
    "sleep(1)\n",
    "ds.wait_for_job(artifact['job_name'])"
   ]
  },
  {
   "cell_type": "markdown",
   "metadata": {},
   "source": [
    "Create plots comparing predictions with actual target"
   ]
  },
  {
   "cell_type": "code",
   "execution_count": 29,
   "metadata": {},
   "outputs": [
    {
     "name": "stdout",
     "output_type": "stream",
     "text": [
      "              precision    recall  f1-score   support\n",
      "\n",
      "        AMO*       1.00      0.95      0.97        19\n",
      "         APO       1.00      1.00      1.00         3\n",
      "        APO*       1.00      1.00      1.00       209\n",
      "        ATE*       0.94      1.00      0.97        17\n",
      "        IEO*       0.00      0.00      0.00         1\n",
      "\n",
      "   micro avg       0.99      0.99      0.99       249\n",
      "   macro avg       0.79      0.79      0.79       249\n",
      "weighted avg       0.99      0.99      0.99       249\n",
      "\n"
     ]
    },
    {
     "name": "stderr",
     "output_type": "stream",
     "text": [
      "/home/doug/anaconda3/lib/python3.7/site-packages/sklearn/metrics/classification.py:1143: UndefinedMetricWarning: Precision and F-score are ill-defined and being set to 0.0 in labels with no predicted samples.\n",
      "  'precision', 'predicted', average, warn_for)\n"
     ]
    },
    {
     "data": {
      "image/png": "[encoded data removed]",
      "text/plain": [
       "<Figure size 432x288 with 1 Axes>"
      ]
     },
     "metadata": {
      "needs_background": "light"
     },
     "output_type": "display_data"
    }
   ],
   "source": [
    "# Create plots comparing predictions with actual target\n",
    "status, prediction = ds.download_artifact(artifact['artifact_name'])\n",
    "df = pd.read_csv(os.path.join(path,test_data))\n",
    "unq = prediction[target].unique()[::-1]\n",
    "p = np.zeros((len(prediction),))\n",
    "a = np.zeros((len(prediction),))\n",
    "for i,q in enumerate(unq):\n",
    "    p += i*(prediction[target] == q).values\n",
    "    a += i*(df[target] == q).values\n",
    "#Plot predictions vs actual\n",
    "plt.plot(a)\n",
    "plt.plot(p)\n",
    "plt.legend(['Actual','Predicted'])\n",
    "plt.yticks([i for i in range(len(unq))],[q for q in unq]);\n",
    "print(classification_report(df[target], prediction[target]))"
   ]
  },
  {
   "cell_type": "markdown",
   "metadata": {},
   "source": [
    "## Find out which machine learning model did Darwin use:"
   ]
  },
  {
   "cell_type": "code",
   "execution_count": 30,
   "metadata": {},
   "outputs": [
    {
     "name": "stdout",
     "output_type": "stream",
     "text": [
      "{'type': 'XGBClassifier', 'parameters': {'base_score': 0.5, 'colsample_bylevel': 1, 'colsample_bytree': 1, 'gamma': 0, 'learning_rate': 0.1, 'max_delta_step': 0, 'max_depth': 3, 'min_child_weight': 1, 'n_estimators': 100, 'n_jobs': -1, 'reg_alpha': 0, 'reg_lambda': 1, 'scale_pos_weight': 1, 'subsample': 1.0}}\n"
     ]
    }
   ],
   "source": [
    "status, model_type = ds.lookup_model_name(model)\n",
    "print(model_type['description']['best_genome'])"
   ]
  },
  {
   "cell_type": "markdown",
   "metadata": {},
   "source": [
    "### Outcome  \n",
    "It seems that the model we built ended up using an XGB Classifier, which uses the XGBoost algorithm on decision trees to classify records. This is actually one of the model that Professor Beasley predicted would do best. Because the dataset is on the smaller side, it struggles inside a neural network classifier since neural networks are best used when there is a lot of data. We are fairly limited to what space agencies have discovered, and therefore are rather limited on sample size. We were able to acheive a very high precision and recall, but we agreed that this is also indicative of a smaller dataset and perhaps a lack of variety in the dataset, since many asteroids are close to each other. This is discussed in a little more detail in the paper for this project.  \n",
    "#### Did this solve the problem?  \n",
    "Overall, this did not change any results from the original model."
   ]
  },
  {
   "cell_type": "code",
   "execution_count": null,
   "metadata": {},
   "outputs": [],
   "source": []
  }
 ],
 "metadata": {
  "anaconda-cloud": {},
  "kernelspec": {
   "display_name": "Python 3",
   "language": "python",
   "name": "python3"
  },
  "language_info": {
   "codemirror_mode": {
    "name": "ipython",
    "version": 3
   },
   "file_extension": ".py",
   "mimetype": "text/x-python",
   "name": "python",
   "nbconvert_exporter": "python",
   "pygments_lexer": "ipython3",
   "version": "3.7.1"
  }
 },
 "nbformat": 4,
 "nbformat_minor": 2
}
