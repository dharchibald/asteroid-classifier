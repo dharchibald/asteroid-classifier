{
 "cells": [
  {
   "cell_type": "markdown",
   "metadata": {},
   "source": [
    "<img src=\"https://cybersecurity-excellence-awards.com/wp-content/uploads/2017/06/366812.png\">"
   ]
  },
  {
   "cell_type": "markdown",
   "metadata": {},
   "source": [
    "<h1><center>Darwin Supervised Classification Model Building </center></h1>"
   ]
  },
  {
   "cell_type": "markdown",
   "metadata": {},
   "source": [
    "Prior to getting started, there are a few things you want to do:\n",
    "1. Set the dataset path.\n",
    "2. Enter your username and password to ensure that you're able to log in successfully\n",
    "\n",
    "Once you're up and running, here are a few things to be mindful of:\n",
    "1. For every run, look up the job status (i.e. requested, failed, running, completed) and wait for job to complete before proceeding. \n",
    "2. If you're not satisfied with your model and think that Darwin can do better by exploring a larger search space, use the resume function."
   ]
  },
  {
   "cell_type": "markdown",
   "metadata": {},
   "source": [
    "## Import libraries"
   ]
  },
  {
   "cell_type": "code",
   "execution_count": 7,
   "metadata": {
    "scrolled": true
   },
   "outputs": [],
   "source": [
    "# Import necessary libraries\n",
    "import warnings\n",
    "warnings.filterwarnings(\"ignore\", message=\"numpy.dtype size changed\")\n",
    "%matplotlib inline\n",
    "import matplotlib.pyplot as plt\n",
    "import pandas as pd\n",
    "from IPython.display import Image\n",
    "from time import sleep\n",
    "import os\n",
    "import numpy as np\n",
    "from sklearn.metrics import classification_report\n",
    "from sklearn.utils import resample\n",
    "\n",
    "from amb_sdk.sdk import DarwinSdk"
   ]
  },
  {
   "cell_type": "markdown",
   "metadata": {},
   "source": [
    "## Setup"
   ]
  },
  {
   "cell_type": "markdown",
   "metadata": {},
   "source": [
    "**Login to Darwin**<br>\n",
    "Enter your registered username and password below to login to Darwin."
   ]
  },
  {
   "cell_type": "code",
   "execution_count": 8,
   "metadata": {},
   "outputs": [],
   "source": [
    "# Login\n",
    "ds = DarwinSdk()\n",
    "ds.set_url('https://amb-demo-api.sparkcognition.com/v1/')\n",
    "status, msg = ds.auth_login_user('d.archibald84@gmail.com', 'aDeuVK8S2v')\n",
    "\n",
    "if not status:\n",
    "    print(msg)"
   ]
  },
  {
   "cell_type": "markdown",
   "metadata": {},
   "source": [
    "**Data Path** <br>\n",
    "In the cell below, set the path to your dataset, the default is Darwin's example datasets"
   ]
  },
  {
   "cell_type": "code",
   "execution_count": 9,
   "metadata": {
    "scrolled": true
   },
   "outputs": [],
   "source": [
    "path = '../../sets/'"
   ]
  },
  {
   "cell_type": "markdown",
   "metadata": {},
   "source": [
    "## Data Upload and Clean"
   ]
  },
  {
   "cell_type": "markdown",
   "metadata": {},
   "source": [
    "**Read dataset and view a file snippet**"
   ]
  },
  {
   "cell_type": "markdown",
   "metadata": {},
   "source": [
    "After setting up the dataset path, the next step is to upload the dataset from your local device to the server. <br> In the cell below, you need to specify the dataset_name if you want to use your own data."
   ]
  },
  {
   "cell_type": "code",
   "execution_count": 21,
   "metadata": {},
   "outputs": [
    {
     "data": {
      "text/html": [
       "<div>\n",
       "<style scoped>\n",
       "    .dataframe tbody tr th:only-of-type {\n",
       "        vertical-align: middle;\n",
       "    }\n",
       "\n",
       "    .dataframe tbody tr th {\n",
       "        vertical-align: top;\n",
       "    }\n",
       "\n",
       "    .dataframe thead th {\n",
       "        text-align: right;\n",
       "    }\n",
       "</style>\n",
       "<table border=\"1\" class=\"dataframe\">\n",
       "  <thead>\n",
       "    <tr style=\"text-align: right;\">\n",
       "      <th></th>\n",
       "      <th>Epoch (TDB)</th>\n",
       "      <th>a (AU)</th>\n",
       "      <th>e</th>\n",
       "      <th>i (deg)</th>\n",
       "      <th>w (deg)</th>\n",
       "      <th>Node (deg)</th>\n",
       "      <th>M (deg)</th>\n",
       "      <th>q (AU)</th>\n",
       "      <th>Q (AU)</th>\n",
       "      <th>P (yr)</th>\n",
       "      <th>H (mag)</th>\n",
       "      <th>MOID (AU)</th>\n",
       "      <th>ref</th>\n",
       "      <th>class</th>\n",
       "      <th>danger</th>\n",
       "    </tr>\n",
       "  </thead>\n",
       "  <tbody>\n",
       "    <tr>\n",
       "      <th>0</th>\n",
       "      <td>57800</td>\n",
       "      <td>1.078066</td>\n",
       "      <td>0.826854</td>\n",
       "      <td>22.825495</td>\n",
       "      <td>31.382966</td>\n",
       "      <td>88.010681</td>\n",
       "      <td>215.528772</td>\n",
       "      <td>0.1867</td>\n",
       "      <td>1.97</td>\n",
       "      <td>1.12</td>\n",
       "      <td>16.90</td>\n",
       "      <td>0.034507</td>\n",
       "      <td>100</td>\n",
       "      <td>APO</td>\n",
       "      <td>Yes</td>\n",
       "    </tr>\n",
       "    <tr>\n",
       "      <th>1</th>\n",
       "      <td>57800</td>\n",
       "      <td>1.245304</td>\n",
       "      <td>0.335342</td>\n",
       "      <td>13.337482</td>\n",
       "      <td>276.893024</td>\n",
       "      <td>337.207958</td>\n",
       "      <td>104.155606</td>\n",
       "      <td>0.8277</td>\n",
       "      <td>1.66</td>\n",
       "      <td>1.39</td>\n",
       "      <td>15.60</td>\n",
       "      <td>0.030669</td>\n",
       "      <td>448</td>\n",
       "      <td>APO</td>\n",
       "      <td>Yes</td>\n",
       "    </tr>\n",
       "    <tr>\n",
       "      <th>2</th>\n",
       "      <td>55249</td>\n",
       "      <td>1.470264</td>\n",
       "      <td>0.559922</td>\n",
       "      <td>6.352995</td>\n",
       "      <td>285.852564</td>\n",
       "      <td>35.736768</td>\n",
       "      <td>174.626213</td>\n",
       "      <td>0.6470</td>\n",
       "      <td>2.29</td>\n",
       "      <td>1.78</td>\n",
       "      <td>16.25</td>\n",
       "      <td>0.025795</td>\n",
       "      <td>263</td>\n",
       "      <td>APO</td>\n",
       "      <td>Yes</td>\n",
       "    </tr>\n",
       "    <tr>\n",
       "      <th>3</th>\n",
       "      <td>57800</td>\n",
       "      <td>1.776025</td>\n",
       "      <td>0.650141</td>\n",
       "      <td>39.832538</td>\n",
       "      <td>267.791993</td>\n",
       "      <td>356.903343</td>\n",
       "      <td>173.188556</td>\n",
       "      <td>0.6214</td>\n",
       "      <td>2.93</td>\n",
       "      <td>2.37</td>\n",
       "      <td>15.20</td>\n",
       "      <td>0.003551</td>\n",
       "      <td>118</td>\n",
       "      <td>APO</td>\n",
       "      <td>Yes</td>\n",
       "    </tr>\n",
       "    <tr>\n",
       "      <th>4</th>\n",
       "      <td>57800</td>\n",
       "      <td>1.874123</td>\n",
       "      <td>0.764602</td>\n",
       "      <td>1.326400</td>\n",
       "      <td>43.388048</td>\n",
       "      <td>349.694944</td>\n",
       "      <td>235.158622</td>\n",
       "      <td>0.4412</td>\n",
       "      <td>3.31</td>\n",
       "      <td>2.57</td>\n",
       "      <td>18.80</td>\n",
       "      <td>0.011645</td>\n",
       "      <td>33</td>\n",
       "      <td>APO</td>\n",
       "      <td>Yes</td>\n",
       "    </tr>\n",
       "  </tbody>\n",
       "</table>\n",
       "</div>"
      ],
      "text/plain": [
       "   Epoch (TDB)    a (AU)         e    i (deg)     w (deg)  Node (deg)  \\\n",
       "0        57800  1.078066  0.826854  22.825495   31.382966   88.010681   \n",
       "1        57800  1.245304  0.335342  13.337482  276.893024  337.207958   \n",
       "2        55249  1.470264  0.559922   6.352995  285.852564   35.736768   \n",
       "3        57800  1.776025  0.650141  39.832538  267.791993  356.903343   \n",
       "4        57800  1.874123  0.764602   1.326400   43.388048  349.694944   \n",
       "\n",
       "      M (deg)  q (AU)  Q (AU)  P (yr)  H (mag)  MOID (AU)  ref class danger  \n",
       "0  215.528772  0.1867    1.97    1.12    16.90   0.034507  100   APO    Yes  \n",
       "1  104.155606  0.8277    1.66    1.39    15.60   0.030669  448   APO    Yes  \n",
       "2  174.626213  0.6470    2.29    1.78    16.25   0.025795  263   APO    Yes  \n",
       "3  173.188556  0.6214    2.93    2.37    15.20   0.003551  118   APO    Yes  \n",
       "4  235.158622  0.4412    3.31    2.57    18.80   0.011645   33   APO    Yes  "
      ]
     },
     "execution_count": 21,
     "metadata": {},
     "output_type": "execute_result"
    }
   ],
   "source": [
    "dataset_name = 'pha_danger_upsampled.csv'\n",
    "df = pd.read_csv(os.path.join(path, dataset_name))\n",
    "'''\n",
    "We realized from the previous feature engineering that there was a huge class imbalance.\n",
    "The below code helps fix the class imbalance.\n",
    "\n",
    "df.danger.value_counts() # told us there were 1481 records classified as yes and 18 records classified as no -- huge class imbalance\n",
    "\n",
    "# Separate majority and minority class\n",
    "df_minority = df[df.danger == 'No']\n",
    "df_majority = df[df.danger == 'Yes']\n",
    "\n",
    "# Upsample minority class\n",
    "df_minority_upsampled = resample(df_minority, replace=True, n_samples=1481, random_state=123)\n",
    "\n",
    "# Combine majority class with upsampled minority class\n",
    "df_upsampled = pd.concat([df_majority, df_minority_upsampled])\n",
    "\n",
    "df_upsampled.danger.value_counts() # shows that both have records yes and no of quantity 1481 -- perfect!\n",
    "df_upsampled.to_csv('../../sets/pha_danger_upsampled.csv') # only needs to be done once, to upload the dataset\n",
    "\n",
    "'''\n",
    "df.head()"
   ]
  },
  {
   "cell_type": "markdown",
   "metadata": {},
   "source": [
    "**Upload dataset to Darwin**"
   ]
  },
  {
   "cell_type": "code",
   "execution_count": 22,
   "metadata": {
    "scrolled": true
   },
   "outputs": [],
   "source": [
    "# Upload dataset\n",
    "ds.delete_dataset(dataset_name)\n",
    "status, dataset = ds.upload_dataset(os.path.join(path, dataset_name))\n",
    "if not status:\n",
    "    print(dataset)"
   ]
  },
  {
   "cell_type": "markdown",
   "metadata": {},
   "source": [
    "**Clean dataset**"
   ]
  },
  {
   "cell_type": "code",
   "execution_count": 23,
   "metadata": {},
   "outputs": [
    {
     "name": "stdout",
     "output_type": "stream",
     "text": [
      "{'status': 'Requested', 'starttime': '2019-04-22T22:04:54.409513', 'endtime': None, 'percent_complete': 0, 'job_type': 'CleanDataTiny', 'loss': None, 'generations': None, 'dataset_names': ['pha_danger_upsampled.csv'], 'artifact_names': ['a243febba085448fad6f9bc2079869f3'], 'model_name': None, 'job_error': None}\n",
      "{'status': 'Requested', 'starttime': '2019-04-22T22:04:54.409513', 'endtime': None, 'percent_complete': 0, 'job_type': 'CleanDataTiny', 'loss': None, 'generations': None, 'dataset_names': ['pha_danger_upsampled.csv'], 'artifact_names': ['a243febba085448fad6f9bc2079869f3'], 'model_name': None, 'job_error': None}\n",
      "{'status': 'Requested', 'starttime': '2019-04-22T22:04:54.409513', 'endtime': None, 'percent_complete': 0, 'job_type': 'CleanDataTiny', 'loss': None, 'generations': None, 'dataset_names': ['pha_danger_upsampled.csv'], 'artifact_names': ['a243febba085448fad6f9bc2079869f3'], 'model_name': None, 'job_error': None}\n",
      "{'status': 'Requested', 'starttime': '2019-04-22T22:04:54.409513', 'endtime': None, 'percent_complete': 0, 'job_type': 'CleanDataTiny', 'loss': None, 'generations': None, 'dataset_names': ['pha_danger_upsampled.csv'], 'artifact_names': ['a243febba085448fad6f9bc2079869f3'], 'model_name': None, 'job_error': None}\n",
      "{'status': 'Requested', 'starttime': '2019-04-22T22:04:54.409513', 'endtime': None, 'percent_complete': 0, 'job_type': 'CleanDataTiny', 'loss': None, 'generations': None, 'dataset_names': ['pha_danger_upsampled.csv'], 'artifact_names': ['a243febba085448fad6f9bc2079869f3'], 'model_name': None, 'job_error': None}\n",
      "{'status': 'Requested', 'starttime': '2019-04-22T22:04:54.409513', 'endtime': None, 'percent_complete': 0, 'job_type': 'CleanDataTiny', 'loss': None, 'generations': None, 'dataset_names': ['pha_danger_upsampled.csv'], 'artifact_names': ['a243febba085448fad6f9bc2079869f3'], 'model_name': None, 'job_error': None}\n",
      "{'status': 'Requested', 'starttime': '2019-04-22T22:04:54.409513', 'endtime': None, 'percent_complete': 0, 'job_type': 'CleanDataTiny', 'loss': None, 'generations': None, 'dataset_names': ['pha_danger_upsampled.csv'], 'artifact_names': ['a243febba085448fad6f9bc2079869f3'], 'model_name': None, 'job_error': None}\n",
      "{'status': 'Requested', 'starttime': '2019-04-22T22:04:54.409513', 'endtime': None, 'percent_complete': 0, 'job_type': 'CleanDataTiny', 'loss': None, 'generations': None, 'dataset_names': ['pha_danger_upsampled.csv'], 'artifact_names': ['a243febba085448fad6f9bc2079869f3'], 'model_name': None, 'job_error': None}\n",
      "{'status': 'Requested', 'starttime': '2019-04-22T22:04:54.409513', 'endtime': None, 'percent_complete': 0, 'job_type': 'CleanDataTiny', 'loss': None, 'generations': None, 'dataset_names': ['pha_danger_upsampled.csv'], 'artifact_names': ['a243febba085448fad6f9bc2079869f3'], 'model_name': None, 'job_error': None}\n",
      "{'status': 'Running', 'starttime': '2019-04-22T22:04:54.409513', 'endtime': None, 'percent_complete': 0, 'job_type': 'CleanDataTiny', 'loss': None, 'generations': None, 'dataset_names': ['pha_danger_upsampled.csv'], 'artifact_names': ['a243febba085448fad6f9bc2079869f3'], 'model_name': None, 'job_error': ''}\n",
      "{'status': 'Complete', 'starttime': '2019-04-22T22:04:54.409513', 'endtime': '2019-04-22T22:07:11.525894', 'percent_complete': 100, 'job_type': 'CleanDataTiny', 'loss': None, 'generations': None, 'dataset_names': ['pha_danger_upsampled.csv'], 'artifact_names': ['a243febba085448fad6f9bc2079869f3'], 'model_name': None, 'job_error': ''}\n"
     ]
    }
   ],
   "source": [
    "# clean dataset\n",
    "target = \"danger\"\n",
    "status, job_id = ds.clean_data(dataset_name, target = target)\n",
    "\n",
    "if status:\n",
    "    ds.wait_for_job(job_id['job_name'])\n",
    "else:\n",
    "    print(job_id)"
   ]
  },
  {
   "cell_type": "markdown",
   "metadata": {},
   "source": [
    "## Create and Train Model "
   ]
  },
  {
   "cell_type": "markdown",
   "metadata": {},
   "source": [
    "We will now build a model that will learn the class labels in the target column.<br> In the default cancer dataset, the target column is \"Diagnosis\". <br> You will have to specify your own target name for your custom dataset. <br> You can also increase max_train_time for longer training.\n"
   ]
  },
  {
   "cell_type": "code",
   "execution_count": 24,
   "metadata": {
    "scrolled": true
   },
   "outputs": [
    {
     "name": "stdout",
     "output_type": "stream",
     "text": [
      "{'status': 'Requested', 'starttime': '2019-04-22T22:09:03.13185', 'endtime': None, 'percent_complete': 0, 'job_type': 'TrainModel', 'loss': None, 'generations': 0, 'dataset_names': ['pha_danger_upsampled.csv'], 'artifact_names': None, 'model_name': 'danger_model0', 'job_error': None}\n",
      "{'status': 'Requested', 'starttime': '2019-04-22T22:09:03.13185', 'endtime': None, 'percent_complete': 0, 'job_type': 'TrainModel', 'loss': None, 'generations': 0, 'dataset_names': ['pha_danger_upsampled.csv'], 'artifact_names': None, 'model_name': 'danger_model0', 'job_error': None}\n",
      "{'status': 'Requested', 'starttime': '2019-04-22T22:09:03.13185', 'endtime': None, 'percent_complete': 0, 'job_type': 'TrainModel', 'loss': None, 'generations': 0, 'dataset_names': ['pha_danger_upsampled.csv'], 'artifact_names': None, 'model_name': 'danger_model0', 'job_error': None}\n",
      "{'status': 'Requested', 'starttime': '2019-04-22T22:09:03.13185', 'endtime': None, 'percent_complete': 0, 'job_type': 'TrainModel', 'loss': None, 'generations': 0, 'dataset_names': ['pha_danger_upsampled.csv'], 'artifact_names': None, 'model_name': 'danger_model0', 'job_error': None}\n",
      "{'status': 'Requested', 'starttime': '2019-04-22T22:09:03.13185', 'endtime': None, 'percent_complete': 0, 'job_type': 'TrainModel', 'loss': None, 'generations': 0, 'dataset_names': ['pha_danger_upsampled.csv'], 'artifact_names': None, 'model_name': 'danger_model0', 'job_error': None}\n",
      "{'status': 'Requested', 'starttime': '2019-04-22T22:09:03.13185', 'endtime': None, 'percent_complete': 0, 'job_type': 'TrainModel', 'loss': None, 'generations': 0, 'dataset_names': ['pha_danger_upsampled.csv'], 'artifact_names': None, 'model_name': 'danger_model0', 'job_error': None}\n",
      "{'status': 'Requested', 'starttime': '2019-04-22T22:09:03.13185', 'endtime': None, 'percent_complete': 0, 'job_type': 'TrainModel', 'loss': None, 'generations': 0, 'dataset_names': ['pha_danger_upsampled.csv'], 'artifact_names': None, 'model_name': 'danger_model0', 'job_error': None}\n",
      "{'status': 'Requested', 'starttime': '2019-04-22T22:09:03.13185', 'endtime': None, 'percent_complete': 0, 'job_type': 'TrainModel', 'loss': None, 'generations': 0, 'dataset_names': ['pha_danger_upsampled.csv'], 'artifact_names': None, 'model_name': 'danger_model0', 'job_error': None}\n",
      "{'status': 'Requested', 'starttime': '2019-04-22T22:09:03.13185', 'endtime': None, 'percent_complete': 0, 'job_type': 'TrainModel', 'loss': None, 'generations': 0, 'dataset_names': ['pha_danger_upsampled.csv'], 'artifact_names': None, 'model_name': 'danger_model0', 'job_error': None}\n",
      "{'status': 'Requested', 'starttime': '2019-04-22T22:09:03.13185', 'endtime': None, 'percent_complete': 0, 'job_type': 'TrainModel', 'loss': None, 'generations': 0, 'dataset_names': ['pha_danger_upsampled.csv'], 'artifact_names': None, 'model_name': 'danger_model0', 'job_error': None}\n",
      "{'status': 'Requested', 'starttime': '2019-04-22T22:09:03.13185', 'endtime': None, 'percent_complete': 0, 'job_type': 'TrainModel', 'loss': None, 'generations': 0, 'dataset_names': ['pha_danger_upsampled.csv'], 'artifact_names': None, 'model_name': 'danger_model0', 'job_error': None}\n",
      "{'status': 'Requested', 'starttime': '2019-04-22T22:09:03.13185', 'endtime': None, 'percent_complete': 0, 'job_type': 'TrainModel', 'loss': None, 'generations': 0, 'dataset_names': ['pha_danger_upsampled.csv'], 'artifact_names': None, 'model_name': 'danger_model0', 'job_error': None}\n",
      "{'status': 'Requested', 'starttime': '2019-04-22T22:09:03.13185', 'endtime': None, 'percent_complete': 0, 'job_type': 'TrainModel', 'loss': None, 'generations': 0, 'dataset_names': ['pha_danger_upsampled.csv'], 'artifact_names': None, 'model_name': 'danger_model0', 'job_error': None}\n",
      "{'status': 'Requested', 'starttime': '2019-04-22T22:09:03.13185', 'endtime': None, 'percent_complete': 0, 'job_type': 'TrainModel', 'loss': None, 'generations': 0, 'dataset_names': ['pha_danger_upsampled.csv'], 'artifact_names': None, 'model_name': 'danger_model0', 'job_error': None}\n",
      "{'status': 'Requested', 'starttime': '2019-04-22T22:09:03.13185', 'endtime': None, 'percent_complete': 0, 'job_type': 'TrainModel', 'loss': None, 'generations': 0, 'dataset_names': ['pha_danger_upsampled.csv'], 'artifact_names': None, 'model_name': 'danger_model0', 'job_error': None}\n",
      "{'status': 'Requested', 'starttime': '2019-04-22T22:09:03.13185', 'endtime': None, 'percent_complete': 0, 'job_type': 'TrainModel', 'loss': None, 'generations': 0, 'dataset_names': ['pha_danger_upsampled.csv'], 'artifact_names': None, 'model_name': 'danger_model0', 'job_error': None}\n",
      "{'status': 'Requested', 'starttime': '2019-04-22T22:09:03.13185', 'endtime': None, 'percent_complete': 0, 'job_type': 'TrainModel', 'loss': None, 'generations': 0, 'dataset_names': ['pha_danger_upsampled.csv'], 'artifact_names': None, 'model_name': 'danger_model0', 'job_error': None}\n",
      "{'status': 'Running', 'starttime': '2019-04-22T22:09:03.13185', 'endtime': None, 'percent_complete': 0, 'job_type': 'TrainModel', 'loss': None, 'generations': 0, 'dataset_names': ['pha_danger_upsampled.csv'], 'artifact_names': None, 'model_name': 'danger_model0', 'job_error': ''}\n",
      "{'status': 'Running', 'starttime': '2019-04-22T22:09:03.13185', 'endtime': None, 'percent_complete': 0, 'job_type': 'TrainModel', 'loss': None, 'generations': 0, 'dataset_names': ['pha_danger_upsampled.csv'], 'artifact_names': None, 'model_name': 'danger_model0', 'job_error': ''}\n",
      "{'status': 'Running', 'starttime': '2019-04-22T22:09:03.13185', 'endtime': None, 'percent_complete': 0, 'job_type': 'TrainModel', 'loss': None, 'generations': 0, 'dataset_names': ['pha_danger_upsampled.csv'], 'artifact_names': None, 'model_name': 'danger_model0', 'job_error': ''}\n",
      "{'status': 'Running', 'starttime': '2019-04-22T22:09:03.13185', 'endtime': None, 'percent_complete': 0, 'job_type': 'TrainModel', 'loss': None, 'generations': 0, 'dataset_names': ['pha_danger_upsampled.csv'], 'artifact_names': None, 'model_name': 'danger_model0', 'job_error': ''}\n",
      "{'status': 'Running', 'starttime': '2019-04-22T22:09:03.13185', 'endtime': None, 'percent_complete': 0, 'job_type': 'TrainModel', 'loss': None, 'generations': 0, 'dataset_names': ['pha_danger_upsampled.csv'], 'artifact_names': None, 'model_name': 'danger_model0', 'job_error': ''}\n",
      "{'status': 'Running', 'starttime': '2019-04-22T22:09:03.13185', 'endtime': None, 'percent_complete': 0, 'job_type': 'TrainModel', 'loss': None, 'generations': 0, 'dataset_names': ['pha_danger_upsampled.csv'], 'artifact_names': None, 'model_name': 'danger_model0', 'job_error': ''}\n",
      "{'status': 'Running', 'starttime': '2019-04-22T22:09:03.13185', 'endtime': None, 'percent_complete': 0, 'job_type': 'TrainModel', 'loss': None, 'generations': 0, 'dataset_names': ['pha_danger_upsampled.csv'], 'artifact_names': None, 'model_name': 'danger_model0', 'job_error': ''}\n",
      "{'status': 'Running', 'starttime': '2019-04-22T22:09:03.13185', 'endtime': None, 'percent_complete': 0, 'job_type': 'TrainModel', 'loss': None, 'generations': 0, 'dataset_names': ['pha_danger_upsampled.csv'], 'artifact_names': None, 'model_name': 'danger_model0', 'job_error': ''}\n",
      "{'status': 'Running', 'starttime': '2019-04-22T22:09:03.13185', 'endtime': None, 'percent_complete': 0, 'job_type': 'TrainModel', 'loss': None, 'generations': 0, 'dataset_names': ['pha_danger_upsampled.csv'], 'artifact_names': None, 'model_name': 'danger_model0', 'job_error': ''}\n",
      "{'status': 'Running', 'starttime': '2019-04-22T22:09:03.13185', 'endtime': None, 'percent_complete': 0, 'job_type': 'TrainModel', 'loss': None, 'generations': 0, 'dataset_names': ['pha_danger_upsampled.csv'], 'artifact_names': None, 'model_name': 'danger_model0', 'job_error': ''}\n",
      "{'status': 'Running', 'starttime': '2019-04-22T22:09:03.13185', 'endtime': None, 'percent_complete': 0, 'job_type': 'TrainModel', 'loss': None, 'generations': 0, 'dataset_names': ['pha_danger_upsampled.csv'], 'artifact_names': None, 'model_name': 'danger_model0', 'job_error': ''}\n",
      "{'status': 'Running', 'starttime': '2019-04-22T22:09:03.13185', 'endtime': None, 'percent_complete': 1, 'job_type': 'TrainModel', 'loss': 0.3132626712322235, 'generations': 2, 'dataset_names': ['pha_danger_upsampled.csv'], 'artifact_names': None, 'model_name': 'danger_model0', 'job_error': ''}\n"
     ]
    },
    {
     "name": "stdout",
     "output_type": "stream",
     "text": [
      "{'status': 'Running', 'starttime': '2019-04-22T22:09:03.13185', 'endtime': None, 'percent_complete': 1, 'job_type': 'TrainModel', 'loss': 0.3132626712322235, 'generations': 2, 'dataset_names': ['pha_danger_upsampled.csv'], 'artifact_names': None, 'model_name': 'danger_model0', 'job_error': ''}\n",
      "{'status': 'Running', 'starttime': '2019-04-22T22:09:03.13185', 'endtime': None, 'percent_complete': 1, 'job_type': 'TrainModel', 'loss': 0.3132626712322235, 'generations': 2, 'dataset_names': ['pha_danger_upsampled.csv'], 'artifact_names': None, 'model_name': 'danger_model0', 'job_error': ''}\n",
      "{'status': 'Running', 'starttime': '2019-04-22T22:09:03.13185', 'endtime': None, 'percent_complete': 1, 'job_type': 'TrainModel', 'loss': 0.3132626712322235, 'generations': 2, 'dataset_names': ['pha_danger_upsampled.csv'], 'artifact_names': None, 'model_name': 'danger_model0', 'job_error': ''}\n",
      "{'status': 'Running', 'starttime': '2019-04-22T22:09:03.13185', 'endtime': None, 'percent_complete': 1, 'job_type': 'TrainModel', 'loss': 0.3132626712322235, 'generations': 2, 'dataset_names': ['pha_danger_upsampled.csv'], 'artifact_names': None, 'model_name': 'danger_model0', 'job_error': ''}\n",
      "{'status': 'Running', 'starttime': '2019-04-22T22:09:03.13185', 'endtime': None, 'percent_complete': 1, 'job_type': 'TrainModel', 'loss': 0.3132626712322235, 'generations': 2, 'dataset_names': ['pha_danger_upsampled.csv'], 'artifact_names': None, 'model_name': 'danger_model0', 'job_error': ''}\n",
      "{'status': 'Running', 'starttime': '2019-04-22T22:09:03.13185', 'endtime': None, 'percent_complete': 33, 'job_type': 'TrainModel', 'loss': 0.3132626712322235, 'generations': 2, 'dataset_names': ['pha_danger_upsampled.csv'], 'artifact_names': None, 'model_name': 'danger_model0', 'job_error': ''}\n",
      "{'status': 'Running', 'starttime': '2019-04-22T22:09:03.13185', 'endtime': None, 'percent_complete': 33, 'job_type': 'TrainModel', 'loss': 0.3132626712322235, 'generations': 2, 'dataset_names': ['pha_danger_upsampled.csv'], 'artifact_names': None, 'model_name': 'danger_model0', 'job_error': ''}\n",
      "{'status': 'Complete', 'starttime': '2019-04-22T22:09:03.13185', 'endtime': '2019-04-22T22:18:00.579422', 'percent_complete': 100, 'job_type': 'TrainModel', 'loss': 0.3132626712322235, 'generations': 2, 'dataset_names': ['pha_danger_upsampled.csv'], 'artifact_names': None, 'model_name': 'danger_model0', 'job_error': ''}\n"
     ]
    }
   ],
   "source": [
    "model = target + \"_model0\"\n",
    "ds.delete_model(model)\n",
    "status, job_id = ds.create_model(dataset_names = dataset_name, \\\n",
    "                                 model_name =  model, \\\n",
    "                                 max_train_time = '00:02')\n",
    "if status:\n",
    "    ds.wait_for_job(job_id['job_name'])\n",
    "else:\n",
    "    print(job_id)"
   ]
  },
  {
   "cell_type": "markdown",
   "metadata": {},
   "source": [
    "## Extra Training (Optional)\n",
    "Run the following cell for extra training, no need to specify parameters"
   ]
  },
  {
   "cell_type": "code",
   "execution_count": 25,
   "metadata": {},
   "outputs": [
    {
     "name": "stdout",
     "output_type": "stream",
     "text": [
      "{'status': 'Requested', 'starttime': '2019-04-22T22:19:13.067582', 'endtime': None, 'percent_complete': 0, 'job_type': 'UpdateModel', 'loss': 0.3132626712322235, 'generations': 2, 'dataset_names': ['pha_danger_upsampled.csv'], 'artifact_names': None, 'model_name': 'danger_model0', 'job_error': None}\n",
      "{'status': 'Requested', 'starttime': '2019-04-22T22:19:13.067582', 'endtime': None, 'percent_complete': 0, 'job_type': 'UpdateModel', 'loss': 0.3132626712322235, 'generations': 2, 'dataset_names': ['pha_danger_upsampled.csv'], 'artifact_names': None, 'model_name': 'danger_model0', 'job_error': None}\n",
      "{'status': 'Requested', 'starttime': '2019-04-22T22:19:13.067582', 'endtime': None, 'percent_complete': 0, 'job_type': 'UpdateModel', 'loss': 0.3132626712322235, 'generations': 2, 'dataset_names': ['pha_danger_upsampled.csv'], 'artifact_names': None, 'model_name': 'danger_model0', 'job_error': None}\n",
      "{'status': 'Requested', 'starttime': '2019-04-22T22:19:13.067582', 'endtime': None, 'percent_complete': 0, 'job_type': 'UpdateModel', 'loss': 0.3132626712322235, 'generations': 2, 'dataset_names': ['pha_danger_upsampled.csv'], 'artifact_names': None, 'model_name': 'danger_model0', 'job_error': None}\n",
      "{'status': 'Requested', 'starttime': '2019-04-22T22:19:13.067582', 'endtime': None, 'percent_complete': 0, 'job_type': 'UpdateModel', 'loss': 0.3132626712322235, 'generations': 2, 'dataset_names': ['pha_danger_upsampled.csv'], 'artifact_names': None, 'model_name': 'danger_model0', 'job_error': None}\n",
      "{'status': 'Requested', 'starttime': '2019-04-22T22:19:13.067582', 'endtime': None, 'percent_complete': 0, 'job_type': 'UpdateModel', 'loss': 0.3132626712322235, 'generations': 2, 'dataset_names': ['pha_danger_upsampled.csv'], 'artifact_names': None, 'model_name': 'danger_model0', 'job_error': None}\n",
      "{'status': 'Requested', 'starttime': '2019-04-22T22:19:13.067582', 'endtime': None, 'percent_complete': 0, 'job_type': 'UpdateModel', 'loss': 0.3132626712322235, 'generations': 2, 'dataset_names': ['pha_danger_upsampled.csv'], 'artifact_names': None, 'model_name': 'danger_model0', 'job_error': None}\n",
      "{'status': 'Requested', 'starttime': '2019-04-22T22:19:13.067582', 'endtime': None, 'percent_complete': 0, 'job_type': 'UpdateModel', 'loss': 0.3132626712322235, 'generations': 2, 'dataset_names': ['pha_danger_upsampled.csv'], 'artifact_names': None, 'model_name': 'danger_model0', 'job_error': None}\n",
      "{'status': 'Requested', 'starttime': '2019-04-22T22:19:13.067582', 'endtime': None, 'percent_complete': 0, 'job_type': 'UpdateModel', 'loss': 0.3132626712322235, 'generations': 2, 'dataset_names': ['pha_danger_upsampled.csv'], 'artifact_names': None, 'model_name': 'danger_model0', 'job_error': None}\n",
      "{'status': 'Requested', 'starttime': '2019-04-22T22:19:13.067582', 'endtime': None, 'percent_complete': 0, 'job_type': 'UpdateModel', 'loss': 0.3132626712322235, 'generations': 2, 'dataset_names': ['pha_danger_upsampled.csv'], 'artifact_names': None, 'model_name': 'danger_model0', 'job_error': None}\n",
      "{'status': 'Requested', 'starttime': '2019-04-22T22:19:13.067582', 'endtime': None, 'percent_complete': 0, 'job_type': 'UpdateModel', 'loss': 0.3132626712322235, 'generations': 2, 'dataset_names': ['pha_danger_upsampled.csv'], 'artifact_names': None, 'model_name': 'danger_model0', 'job_error': None}\n",
      "{'status': 'Requested', 'starttime': '2019-04-22T22:19:13.067582', 'endtime': None, 'percent_complete': 0, 'job_type': 'UpdateModel', 'loss': 0.3132626712322235, 'generations': 2, 'dataset_names': ['pha_danger_upsampled.csv'], 'artifact_names': None, 'model_name': 'danger_model0', 'job_error': None}\n",
      "{'status': 'Requested', 'starttime': '2019-04-22T22:19:13.067582', 'endtime': None, 'percent_complete': 0, 'job_type': 'UpdateModel', 'loss': 0.3132626712322235, 'generations': 2, 'dataset_names': ['pha_danger_upsampled.csv'], 'artifact_names': None, 'model_name': 'danger_model0', 'job_error': None}\n",
      "{'status': 'Requested', 'starttime': '2019-04-22T22:19:13.067582', 'endtime': None, 'percent_complete': 0, 'job_type': 'UpdateModel', 'loss': 0.3132626712322235, 'generations': 2, 'dataset_names': ['pha_danger_upsampled.csv'], 'artifact_names': None, 'model_name': 'danger_model0', 'job_error': None}\n",
      "{'status': 'Requested', 'starttime': '2019-04-22T22:19:13.067582', 'endtime': None, 'percent_complete': 0, 'job_type': 'UpdateModel', 'loss': 0.3132626712322235, 'generations': 2, 'dataset_names': ['pha_danger_upsampled.csv'], 'artifact_names': None, 'model_name': 'danger_model0', 'job_error': None}\n",
      "{'status': 'Running', 'starttime': '2019-04-22T22:19:13.067582', 'endtime': None, 'percent_complete': 0, 'job_type': 'UpdateModel', 'loss': 0.3132626712322235, 'generations': 2, 'dataset_names': ['pha_danger_upsampled.csv'], 'artifact_names': None, 'model_name': 'danger_model0', 'job_error': ''}\n",
      "{'status': 'Running', 'starttime': '2019-04-22T22:19:13.067582', 'endtime': None, 'percent_complete': 0, 'job_type': 'UpdateModel', 'loss': 0.3132626712322235, 'generations': 2, 'dataset_names': ['pha_danger_upsampled.csv'], 'artifact_names': None, 'model_name': 'danger_model0', 'job_error': ''}\n",
      "{'status': 'Running', 'starttime': '2019-04-22T22:19:13.067582', 'endtime': None, 'percent_complete': 0, 'job_type': 'UpdateModel', 'loss': 0.3132626712322235, 'generations': 2, 'dataset_names': ['pha_danger_upsampled.csv'], 'artifact_names': None, 'model_name': 'danger_model0', 'job_error': ''}\n",
      "{'status': 'Running', 'starttime': '2019-04-22T22:19:13.067582', 'endtime': None, 'percent_complete': 0, 'job_type': 'UpdateModel', 'loss': 0.3132626712322235, 'generations': 2, 'dataset_names': ['pha_danger_upsampled.csv'], 'artifact_names': None, 'model_name': 'danger_model0', 'job_error': ''}\n",
      "{'status': 'Running', 'starttime': '2019-04-22T22:19:13.067582', 'endtime': None, 'percent_complete': 0, 'job_type': 'UpdateModel', 'loss': 0.3132626712322235, 'generations': 5, 'dataset_names': ['pha_danger_upsampled.csv'], 'artifact_names': None, 'model_name': 'danger_model0', 'job_error': ''}\n",
      "{'status': 'Running', 'starttime': '2019-04-22T22:19:13.067582', 'endtime': None, 'percent_complete': 0, 'job_type': 'UpdateModel', 'loss': 0.3132626712322235, 'generations': 5, 'dataset_names': ['pha_danger_upsampled.csv'], 'artifact_names': None, 'model_name': 'danger_model0', 'job_error': ''}\n",
      "{'status': 'Running', 'starttime': '2019-04-22T22:19:13.067582', 'endtime': None, 'percent_complete': 0, 'job_type': 'UpdateModel', 'loss': 0.3132626712322235, 'generations': 5, 'dataset_names': ['pha_danger_upsampled.csv'], 'artifact_names': None, 'model_name': 'danger_model0', 'job_error': ''}\n",
      "{'status': 'Running', 'starttime': '2019-04-22T22:19:13.067582', 'endtime': None, 'percent_complete': 0, 'job_type': 'UpdateModel', 'loss': 0.3132626712322235, 'generations': 5, 'dataset_names': ['pha_danger_upsampled.csv'], 'artifact_names': None, 'model_name': 'danger_model0', 'job_error': ''}\n",
      "{'status': 'Running', 'starttime': '2019-04-22T22:19:13.067582', 'endtime': None, 'percent_complete': 0, 'job_type': 'UpdateModel', 'loss': 0.3132626712322235, 'generations': 5, 'dataset_names': ['pha_danger_upsampled.csv'], 'artifact_names': None, 'model_name': 'danger_model0', 'job_error': ''}\n",
      "{'status': 'Running', 'starttime': '2019-04-22T22:19:13.067582', 'endtime': None, 'percent_complete': 0, 'job_type': 'UpdateModel', 'loss': 0.3132626712322235, 'generations': 5, 'dataset_names': ['pha_danger_upsampled.csv'], 'artifact_names': None, 'model_name': 'danger_model0', 'job_error': ''}\n",
      "{'status': 'Running', 'starttime': '2019-04-22T22:19:13.067582', 'endtime': None, 'percent_complete': 0, 'job_type': 'UpdateModel', 'loss': 0.3132626712322235, 'generations': 5, 'dataset_names': ['pha_danger_upsampled.csv'], 'artifact_names': None, 'model_name': 'danger_model0', 'job_error': ''}\n",
      "{'status': 'Running', 'starttime': '2019-04-22T22:19:13.067582', 'endtime': None, 'percent_complete': 0, 'job_type': 'UpdateModel', 'loss': 0.3132626712322235, 'generations': 5, 'dataset_names': ['pha_danger_upsampled.csv'], 'artifact_names': None, 'model_name': 'danger_model0', 'job_error': ''}\n",
      "{'status': 'Running', 'starttime': '2019-04-22T22:19:13.067582', 'endtime': None, 'percent_complete': 0, 'job_type': 'UpdateModel', 'loss': 0.3132626712322235, 'generations': 5, 'dataset_names': ['pha_danger_upsampled.csv'], 'artifact_names': None, 'model_name': 'danger_model0', 'job_error': ''}\n"
     ]
    },
    {
     "name": "stdout",
     "output_type": "stream",
     "text": [
      "{'status': 'Running', 'starttime': '2019-04-22T22:19:13.067582', 'endtime': None, 'percent_complete': 0, 'job_type': 'UpdateModel', 'loss': 0.3132626712322235, 'generations': 5, 'dataset_names': ['pha_danger_upsampled.csv'], 'artifact_names': None, 'model_name': 'danger_model0', 'job_error': ''}\n",
      "{'status': 'Running', 'starttime': '2019-04-22T22:19:13.067582', 'endtime': None, 'percent_complete': 0, 'job_type': 'UpdateModel', 'loss': 0.3132626712322235, 'generations': 5, 'dataset_names': ['pha_danger_upsampled.csv'], 'artifact_names': None, 'model_name': 'danger_model0', 'job_error': ''}\n",
      "{'status': 'Running', 'starttime': '2019-04-22T22:19:13.067582', 'endtime': None, 'percent_complete': 16, 'job_type': 'UpdateModel', 'loss': 0.3132626712322235, 'generations': 5, 'dataset_names': ['pha_danger_upsampled.csv'], 'artifact_names': None, 'model_name': 'danger_model0', 'job_error': ''}\n",
      "{'status': 'Running', 'starttime': '2019-04-22T22:19:13.067582', 'endtime': None, 'percent_complete': 16, 'job_type': 'UpdateModel', 'loss': 0.3132626712322235, 'generations': 5, 'dataset_names': ['pha_danger_upsampled.csv'], 'artifact_names': None, 'model_name': 'danger_model0', 'job_error': ''}\n",
      "{'status': 'Running', 'starttime': '2019-04-22T22:19:13.067582', 'endtime': None, 'percent_complete': 16, 'job_type': 'UpdateModel', 'loss': 0.3132626712322235, 'generations': 5, 'dataset_names': ['pha_danger_upsampled.csv'], 'artifact_names': None, 'model_name': 'danger_model0', 'job_error': ''}\n",
      "{'status': 'Running', 'starttime': '2019-04-22T22:19:13.067582', 'endtime': None, 'percent_complete': 28, 'job_type': 'UpdateModel', 'loss': 0.0005322590683742116, 'generations': 5, 'dataset_names': ['pha_danger_upsampled.csv'], 'artifact_names': None, 'model_name': 'danger_model0', 'job_error': ''}\n",
      "{'status': 'Running', 'starttime': '2019-04-22T22:19:13.067582', 'endtime': None, 'percent_complete': 28, 'job_type': 'UpdateModel', 'loss': 0.0005322590683742116, 'generations': 5, 'dataset_names': ['pha_danger_upsampled.csv'], 'artifact_names': None, 'model_name': 'danger_model0', 'job_error': ''}\n",
      "{'status': 'Running', 'starttime': '2019-04-22T22:19:13.067582', 'endtime': None, 'percent_complete': 28, 'job_type': 'UpdateModel', 'loss': 0.0005322590683742116, 'generations': 5, 'dataset_names': ['pha_danger_upsampled.csv'], 'artifact_names': None, 'model_name': 'danger_model0', 'job_error': ''}\n",
      "{'status': 'Running', 'starttime': '2019-04-22T22:19:13.067582', 'endtime': None, 'percent_complete': 37, 'job_type': 'UpdateModel', 'loss': 0.0005322590683742116, 'generations': 5, 'dataset_names': ['pha_danger_upsampled.csv'], 'artifact_names': None, 'model_name': 'danger_model0', 'job_error': ''}\n",
      "{'status': 'Running', 'starttime': '2019-04-22T22:19:13.067582', 'endtime': None, 'percent_complete': 37, 'job_type': 'UpdateModel', 'loss': 0.0005322590683742116, 'generations': 5, 'dataset_names': ['pha_danger_upsampled.csv'], 'artifact_names': None, 'model_name': 'danger_model0', 'job_error': ''}\n",
      "{'status': 'Running', 'starttime': '2019-04-22T22:19:13.067582', 'endtime': None, 'percent_complete': 37, 'job_type': 'UpdateModel', 'loss': 0.0005322590683742116, 'generations': 5, 'dataset_names': ['pha_danger_upsampled.csv'], 'artifact_names': None, 'model_name': 'danger_model0', 'job_error': ''}\n",
      "{'status': 'Running', 'starttime': '2019-04-22T22:19:13.067582', 'endtime': None, 'percent_complete': 50, 'job_type': 'UpdateModel', 'loss': 0.0001356773827865254, 'generations': 5, 'dataset_names': ['pha_danger_upsampled.csv'], 'artifact_names': None, 'model_name': 'danger_model0', 'job_error': ''}\n",
      "{'status': 'Running', 'starttime': '2019-04-22T22:19:13.067582', 'endtime': None, 'percent_complete': 50, 'job_type': 'UpdateModel', 'loss': 0.0001356773827865254, 'generations': 5, 'dataset_names': ['pha_danger_upsampled.csv'], 'artifact_names': None, 'model_name': 'danger_model0', 'job_error': ''}\n"
     ]
    }
   ],
   "source": [
    "# Train some more\n",
    "status, job_id = ds.resume_training_model(dataset_names = dataset_name,\n",
    "                                          model_name = model,\n",
    "                                          max_train_time = '00:05')\n",
    "                                          \n",
    "if status:\n",
    "    ds.wait_for_job(job_id['job_name'])\n",
    "else:\n",
    "    print(job_id)"
   ]
  },
  {
   "cell_type": "markdown",
   "metadata": {},
   "source": [
    "## Analyze Model\n",
    "Analyze model provides feature importance ranked by the model. <br> It indicates a general view of which features pose a bigger impact on the model"
   ]
  },
  {
   "cell_type": "code",
   "execution_count": 27,
   "metadata": {
    "scrolled": true
   },
   "outputs": [
    {
     "name": "stdout",
     "output_type": "stream",
     "text": [
      "{'status': 'Requested', 'starttime': '2019-04-22T22:36:19.505934', 'endtime': None, 'percent_complete': 0, 'job_type': 'AnalyzeModel', 'loss': 0.0001356773827865254, 'generations': 5, 'dataset_names': None, 'artifact_names': ['38465338c5d34d8d9bc233533ccc4135'], 'model_name': 'danger_model0', 'job_error': None}\n",
      "{'status': 'Requested', 'starttime': '2019-04-22T22:36:19.505934', 'endtime': None, 'percent_complete': 0, 'job_type': 'AnalyzeModel', 'loss': 0.0001356773827865254, 'generations': 5, 'dataset_names': None, 'artifact_names': ['38465338c5d34d8d9bc233533ccc4135'], 'model_name': 'danger_model0', 'job_error': None}\n",
      "{'status': 'Requested', 'starttime': '2019-04-22T22:36:19.505934', 'endtime': None, 'percent_complete': 0, 'job_type': 'AnalyzeModel', 'loss': 0.0001356773827865254, 'generations': 5, 'dataset_names': None, 'artifact_names': ['38465338c5d34d8d9bc233533ccc4135'], 'model_name': 'danger_model0', 'job_error': None}\n",
      "{'status': 'Requested', 'starttime': '2019-04-22T22:36:19.505934', 'endtime': None, 'percent_complete': 0, 'job_type': 'AnalyzeModel', 'loss': 0.0001356773827865254, 'generations': 5, 'dataset_names': None, 'artifact_names': ['38465338c5d34d8d9bc233533ccc4135'], 'model_name': 'danger_model0', 'job_error': None}\n",
      "{'status': 'Requested', 'starttime': '2019-04-22T22:36:19.505934', 'endtime': None, 'percent_complete': 0, 'job_type': 'AnalyzeModel', 'loss': 0.0001356773827865254, 'generations': 5, 'dataset_names': None, 'artifact_names': ['38465338c5d34d8d9bc233533ccc4135'], 'model_name': 'danger_model0', 'job_error': None}\n",
      "{'status': 'Requested', 'starttime': '2019-04-22T22:36:19.505934', 'endtime': None, 'percent_complete': 0, 'job_type': 'AnalyzeModel', 'loss': 0.0001356773827865254, 'generations': 5, 'dataset_names': None, 'artifact_names': ['38465338c5d34d8d9bc233533ccc4135'], 'model_name': 'danger_model0', 'job_error': None}\n",
      "{'status': 'Complete', 'starttime': '2019-04-22T22:36:19.505934', 'endtime': '2019-04-22T22:37:40.944496', 'percent_complete': 100, 'job_type': 'AnalyzeModel', 'loss': 0.0001356773827865254, 'generations': 5, 'dataset_names': None, 'artifact_names': ['38465338c5d34d8d9bc233533ccc4135'], 'model_name': 'danger_model0', 'job_error': ''}\n"
     ]
    }
   ],
   "source": [
    "# Retrieve feature importance of built model\n",
    "status, artifact = ds.analyze_model(model)\n",
    "sleep(1)\n",
    "if status:\n",
    "    ds.wait_for_job(artifact['job_name'])\n",
    "else:\n",
    "    print(artifact)\n",
    "status, feature_importance = ds.download_artifact(artifact['artifact_name'])"
   ]
  },
  {
   "cell_type": "markdown",
   "metadata": {},
   "source": [
    "Show the 10 most important features of the model."
   ]
  },
  {
   "cell_type": "code",
   "execution_count": 28,
   "metadata": {},
   "outputs": [
    {
     "data": {
      "text/plain": [
       "H (mag)        0.540830\n",
       "ref            0.096116\n",
       "i (deg)        0.064228\n",
       "Q (AU)         0.056955\n",
       "a (AU)         0.041535\n",
       "MOID (AU)      0.034349\n",
       "e              0.031048\n",
       "P (yr)         0.030433\n",
       "w (deg)        0.029596\n",
       "q (AU)         0.023499\n",
       "M (deg)        0.019393\n",
       "Node (deg)     0.016116\n",
       "class = ATE    0.014952\n",
       "Epoch (TDB)    0.000525\n",
       "class = APO    0.000425\n",
       "class = IEO    0.000000\n",
       "dtype: float64"
      ]
     },
     "execution_count": 28,
     "metadata": {},
     "output_type": "execute_result"
    }
   ],
   "source": [
    "feature_importance[:]"
   ]
  },
  {
   "cell_type": "markdown",
   "metadata": {},
   "source": [
    "## Predictions\n",
    "**Perform model prediction on the the training dataset.**"
   ]
  },
  {
   "cell_type": "code",
   "execution_count": 29,
   "metadata": {
    "scrolled": true
   },
   "outputs": [
    {
     "name": "stdout",
     "output_type": "stream",
     "text": [
      "{'status': 'Requested', 'starttime': '2019-04-22T22:39:49.226373', 'endtime': None, 'percent_complete': 0, 'job_type': 'RunModel', 'loss': 0.0001356773827865254, 'generations': 5, 'dataset_names': ['pha_danger_upsampled.csv'], 'artifact_names': ['97101139d07e4aa7895c6adfcf40294c'], 'model_name': 'danger_model0', 'job_error': None}\n",
      "{'status': 'Complete', 'starttime': '2019-04-22T22:39:49.226373', 'endtime': '2019-04-22T22:39:54.463809', 'percent_complete': 100, 'job_type': 'RunModel', 'loss': 0.0001356773827865254, 'generations': 5, 'dataset_names': ['pha_danger_upsampled.csv'], 'artifact_names': ['97101139d07e4aa7895c6adfcf40294c'], 'model_name': 'danger_model0', 'job_error': ''}\n"
     ]
    },
    {
     "data": {
      "text/plain": [
       "(True, 'Job completed')"
      ]
     },
     "execution_count": 29,
     "metadata": {},
     "output_type": "execute_result"
    }
   ],
   "source": [
    "status, artifact = ds.run_model(dataset_name, model)\n",
    "sleep(1)\n",
    "ds.wait_for_job(artifact['job_name'])"
   ]
  },
  {
   "cell_type": "markdown",
   "metadata": {},
   "source": [
    "Download predictions from Darwin's server."
   ]
  },
  {
   "cell_type": "code",
   "execution_count": 30,
   "metadata": {
    "scrolled": true
   },
   "outputs": [
    {
     "data": {
      "text/html": [
       "<div>\n",
       "<style scoped>\n",
       "    .dataframe tbody tr th:only-of-type {\n",
       "        vertical-align: middle;\n",
       "    }\n",
       "\n",
       "    .dataframe tbody tr th {\n",
       "        vertical-align: top;\n",
       "    }\n",
       "\n",
       "    .dataframe thead th {\n",
       "        text-align: right;\n",
       "    }\n",
       "</style>\n",
       "<table border=\"1\" class=\"dataframe\">\n",
       "  <thead>\n",
       "    <tr style=\"text-align: right;\">\n",
       "      <th></th>\n",
       "      <th>danger</th>\n",
       "      <th>prob_No</th>\n",
       "      <th>prob_Yes</th>\n",
       "    </tr>\n",
       "  </thead>\n",
       "  <tbody>\n",
       "    <tr>\n",
       "      <th>0</th>\n",
       "      <td>Yes</td>\n",
       "      <td>0.000000e+00</td>\n",
       "      <td>1.0</td>\n",
       "    </tr>\n",
       "    <tr>\n",
       "      <th>1</th>\n",
       "      <td>Yes</td>\n",
       "      <td>0.000000e+00</td>\n",
       "      <td>1.0</td>\n",
       "    </tr>\n",
       "    <tr>\n",
       "      <th>2</th>\n",
       "      <td>Yes</td>\n",
       "      <td>0.000000e+00</td>\n",
       "      <td>1.0</td>\n",
       "    </tr>\n",
       "    <tr>\n",
       "      <th>3</th>\n",
       "      <td>Yes</td>\n",
       "      <td>0.000000e+00</td>\n",
       "      <td>1.0</td>\n",
       "    </tr>\n",
       "    <tr>\n",
       "      <th>4</th>\n",
       "      <td>Yes</td>\n",
       "      <td>7.103672e-40</td>\n",
       "      <td>1.0</td>\n",
       "    </tr>\n",
       "  </tbody>\n",
       "</table>\n",
       "</div>"
      ],
      "text/plain": [
       "  danger       prob_No  prob_Yes\n",
       "0    Yes  0.000000e+00       1.0\n",
       "1    Yes  0.000000e+00       1.0\n",
       "2    Yes  0.000000e+00       1.0\n",
       "3    Yes  0.000000e+00       1.0\n",
       "4    Yes  7.103672e-40       1.0"
      ]
     },
     "execution_count": 30,
     "metadata": {},
     "output_type": "execute_result"
    }
   ],
   "source": [
    "status, prediction = ds.download_artifact(artifact['artifact_name'])\n",
    "prediction.head()"
   ]
  },
  {
   "cell_type": "markdown",
   "metadata": {},
   "source": [
    "Create plots comparing predictions with actual target"
   ]
  },
  {
   "cell_type": "code",
   "execution_count": 31,
   "metadata": {
    "scrolled": true
   },
   "outputs": [
    {
     "name": "stdout",
     "output_type": "stream",
     "text": [
      "              precision    recall  f1-score   support\n",
      "\n",
      "          No       1.00      1.00      1.00      1481\n",
      "         Yes       1.00      1.00      1.00      1481\n",
      "\n",
      "   micro avg       1.00      1.00      1.00      2962\n",
      "   macro avg       1.00      1.00      1.00      2962\n",
      "weighted avg       1.00      1.00      1.00      2962\n",
      "\n"
     ]
    },
    {
     "data": {
      "image/png": "[encoded data removed]",
      "text/plain": [
       "<Figure size 432x288 with 1 Axes>"
      ]
     },
     "metadata": {
      "needs_background": "light"
     },
     "output_type": "display_data"
    }
   ],
   "source": [
    "unq = prediction[target].unique()[::-1]\n",
    "p = np.zeros((len(prediction),))\n",
    "a = np.zeros((len(prediction),))\n",
    "for i,q in enumerate(unq):\n",
    "    p += i*(prediction[target] == q).values\n",
    "    a += i*(df[target] == q).values\n",
    "#Plot predictions vs actual\n",
    "plt.plot(a)\n",
    "plt.plot(p)\n",
    "plt.legend(['Actual','Predicted'])\n",
    "plt.yticks([i for i in range(len(unq))],[q for q in unq]);\n",
    "print(classification_report(df[target], prediction[target]))"
   ]
  },
  {
   "cell_type": "markdown",
   "metadata": {},
   "source": [
    "**Perform model prediction on a test dataset that wasn't used in training.** <br>\n",
    "Upload test dataset"
   ]
  },
  {
   "cell_type": "code",
   "execution_count": 32,
   "metadata": {
    "scrolled": true
   },
   "outputs": [],
   "source": [
    "test_data = 'pha_danger_test.csv'\n",
    "ds.delete_dataset(test_data)\n",
    "status, dataset = ds.upload_dataset(os.path.join(path, test_data))\n",
    "if not status:\n",
    "    print(dataset)"
   ]
  },
  {
   "cell_type": "markdown",
   "metadata": {},
   "source": [
    "clean test data"
   ]
  },
  {
   "cell_type": "code",
   "execution_count": 33,
   "metadata": {},
   "outputs": [
    {
     "name": "stdout",
     "output_type": "stream",
     "text": [
      "{'status': 'Requested', 'starttime': '2019-04-22T22:40:26.845034', 'endtime': None, 'percent_complete': 0, 'job_type': 'CleanDataTiny', 'loss': None, 'generations': None, 'dataset_names': ['pha_danger_test.csv'], 'artifact_names': ['eb935413a0a44af284d28a55418202d7'], 'model_name': None, 'job_error': None}\n",
      "{'status': 'Requested', 'starttime': '2019-04-22T22:40:26.845034', 'endtime': None, 'percent_complete': 0, 'job_type': 'CleanDataTiny', 'loss': None, 'generations': None, 'dataset_names': ['pha_danger_test.csv'], 'artifact_names': ['eb935413a0a44af284d28a55418202d7'], 'model_name': None, 'job_error': None}\n",
      "{'status': 'Complete', 'starttime': '2019-04-22T22:40:26.845034', 'endtime': '2019-04-22T22:40:54.258561', 'percent_complete': 100, 'job_type': 'CleanDataTiny', 'loss': None, 'generations': None, 'dataset_names': ['pha_danger_test.csv'], 'artifact_names': ['eb935413a0a44af284d28a55418202d7'], 'model_name': None, 'job_error': ''}\n"
     ]
    }
   ],
   "source": [
    "# clean test dataset\n",
    "status, job_id = ds.clean_data(test_data, target = target, model_name = model)\n",
    "\n",
    "if status:\n",
    "    ds.wait_for_job(job_id['job_name'])\n",
    "else:\n",
    "    print(job_id)"
   ]
  },
  {
   "cell_type": "markdown",
   "metadata": {},
   "source": [
    "Run model on test dataset."
   ]
  },
  {
   "cell_type": "code",
   "execution_count": 34,
   "metadata": {
    "scrolled": true
   },
   "outputs": [
    {
     "name": "stdout",
     "output_type": "stream",
     "text": [
      "{'status': 'Taken', 'starttime': '2019-04-22T22:41:01.912927', 'endtime': None, 'percent_complete': 0, 'job_type': 'RunModel', 'loss': 0.0001356773827865254, 'generations': 5, 'dataset_names': ['pha_danger_test.csv'], 'artifact_names': ['a58c15cca271497f83070235e9f2ae41'], 'model_name': 'danger_model0', 'job_error': None}\n",
      "{'status': 'Complete', 'starttime': '2019-04-22T22:41:01.912927', 'endtime': '2019-04-22T22:41:03.653963', 'percent_complete': 100, 'job_type': 'RunModel', 'loss': 0.0001356773827865254, 'generations': 5, 'dataset_names': ['pha_danger_test.csv'], 'artifact_names': ['a58c15cca271497f83070235e9f2ae41'], 'model_name': 'danger_model0', 'job_error': ''}\n"
     ]
    },
    {
     "data": {
      "text/plain": [
       "(True, 'Job completed')"
      ]
     },
     "execution_count": 34,
     "metadata": {},
     "output_type": "execute_result"
    }
   ],
   "source": [
    "status, artifact = ds.run_model(test_data, model)\n",
    "sleep(1)\n",
    "ds.wait_for_job(artifact['job_name'])"
   ]
  },
  {
   "cell_type": "markdown",
   "metadata": {},
   "source": [
    "Create plots comparing predictions with actual target"
   ]
  },
  {
   "cell_type": "code",
   "execution_count": 35,
   "metadata": {},
   "outputs": [
    {
     "name": "stdout",
     "output_type": "stream",
     "text": [
      "              precision    recall  f1-score   support\n",
      "\n",
      "          No       1.00      0.67      0.80         3\n",
      "         Yes       1.00      1.00      1.00       246\n",
      "\n",
      "   micro avg       1.00      1.00      1.00       249\n",
      "   macro avg       1.00      0.83      0.90       249\n",
      "weighted avg       1.00      1.00      1.00       249\n",
      "\n"
     ]
    },
    {
     "data": {
      "image/png": "[encoded data removed]",
      "text/plain": [
       "<Figure size 432x288 with 1 Axes>"
      ]
     },
     "metadata": {
      "needs_background": "light"
     },
     "output_type": "display_data"
    }
   ],
   "source": [
    "# Create plots comparing predictions with actual target\n",
    "status, prediction = ds.download_artifact(artifact['artifact_name'])\n",
    "df = pd.read_csv(os.path.join(path,test_data))\n",
    "unq = prediction[target].unique()[::-1]\n",
    "p = np.zeros((len(prediction),))\n",
    "a = np.zeros((len(prediction),))\n",
    "for i,q in enumerate(unq):\n",
    "    p += i*(prediction[target] == q).values\n",
    "    a += i*(df[target] == q).values\n",
    "#Plot predictions vs actual\n",
    "plt.plot(a)\n",
    "plt.plot(p)\n",
    "plt.legend(['Actual','Predicted'])\n",
    "plt.yticks([i for i in range(len(unq))],[q for q in unq]);\n",
    "print(classification_report(df[target], prediction[target]))"
   ]
  },
  {
   "cell_type": "markdown",
   "metadata": {},
   "source": [
    "## Find out which machine learning model did Darwin use:"
   ]
  },
  {
   "cell_type": "code",
   "execution_count": 36,
   "metadata": {},
   "outputs": [
    {
     "name": "stdout",
     "output_type": "stream",
     "text": [
      "[{'layer 1': {'type': 'LinearGene', 'parameters': {'activation': 'identity', 'numunits': 55}}}, {'layer 2': {'type': 'LinearGene', 'parameters': {'activation': 'selu', 'numunits': 55}}}, {'layer 3': {'type': 'LinearGene', 'parameters': {'activation': 'selu', 'numunits': 101}}}, {'layer 4': {'type': 'LinearGene', 'parameters': {'activation': 'relu', 'numunits': 23}}}, {'layer 5': {'type': 'LinearGene', 'parameters': {'activation': 'hardtanh', 'numunits': 2}}}]\n"
     ]
    }
   ],
   "source": [
    "status, model_type = ds.lookup_model_name(model)\n",
    "print(model_type['description']['best_genome'])"
   ]
  },
  {
   "cell_type": "markdown",
   "metadata": {},
   "source": [
    "### Outcome  \n",
    "It seems that the model we built ended up using an LinearGene. This is isn't one of the models that we'd predicted.\n",
    "#### Did this solve the problem?  \n",
    "Overall, we believe that we did solve the problem. This is a system that can help predict the danger of new near-earth objects. We reduced our overfitting issue, and additionally increased from the base accuracy as well. It doesn't seem to be too accurate, which is a good thing. It would benefit from testing and training on more non-dangerous records. The macro avg for f-score seems to be pretty good, so we will take that as a good measure of success. More work can be done to reduce overfitting, but it requires more data."
   ]
  },
  {
   "cell_type": "code",
   "execution_count": null,
   "metadata": {},
   "outputs": [],
   "source": []
  }
 ],
 "metadata": {
  "anaconda-cloud": {},
  "kernelspec": {
   "display_name": "Python 3",
   "language": "python",
   "name": "python3"
  },
  "language_info": {
   "codemirror_mode": {
    "name": "ipython",
    "version": 3
   },
   "file_extension": ".py",
   "mimetype": "text/x-python",
   "name": "python",
   "nbconvert_exporter": "python",
   "pygments_lexer": "ipython3",
   "version": "3.7.1"
  }
 },
 "nbformat": 4,
 "nbformat_minor": 2
}
