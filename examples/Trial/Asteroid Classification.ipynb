{
 "cells": [
  {
   "cell_type": "markdown",
   "metadata": {},
   "source": [
    "<img src=\"https://cybersecurity-excellence-awards.com/wp-content/uploads/2017/06/366812.png\">"
   ]
  },
  {
   "cell_type": "markdown",
   "metadata": {},
   "source": [
    "<h1><center>Darwin Supervised Classification Model Building </center></h1>"
   ]
  },
  {
   "cell_type": "markdown",
   "metadata": {},
   "source": [
    "Prior to getting started, there are a few things you want to do:\n",
    "1. Set the dataset path.\n",
    "2. Enter your username and password to ensure that you're able to log in successfully\n",
    "\n",
    "Once you're up and running, here are a few things to be mindful of:\n",
    "1. For every run, look up the job status (i.e. requested, failed, running, completed) and wait for job to complete before proceeding. \n",
    "2. If you're not satisfied with your model and think that Darwin can do better by exploring a larger search space, use the resume function."
   ]
  },
  {
   "cell_type": "markdown",
   "metadata": {},
   "source": [
    "## Import libraries"
   ]
  },
  {
   "cell_type": "code",
   "execution_count": 1,
   "metadata": {
    "scrolled": true
   },
   "outputs": [],
   "source": [
    "# Import necessary libraries\n",
    "import warnings\n",
    "warnings.filterwarnings(\"ignore\", message=\"numpy.dtype size changed\")\n",
    "%matplotlib inline\n",
    "import matplotlib.pyplot as plt\n",
    "import pandas as pd\n",
    "from IPython.display import Image\n",
    "from time import sleep\n",
    "import os\n",
    "import numpy as np\n",
    "from sklearn.metrics import classification_report\n",
    "\n",
    "from amb_sdk.sdk import DarwinSdk"
   ]
  },
  {
   "cell_type": "markdown",
   "metadata": {},
   "source": [
    "## Setup"
   ]
  },
  {
   "cell_type": "markdown",
   "metadata": {},
   "source": [
    "**Login to Darwin**<br>\n",
    "Enter your registered username and password below to login to Darwin."
   ]
  },
  {
   "cell_type": "code",
   "execution_count": 2,
   "metadata": {},
   "outputs": [],
   "source": [
    "# Login\n",
    "ds = DarwinSdk()\n",
    "ds.set_url('https://amb-demo-api.sparkcognition.com/v1/')\n",
    "status, msg = ds.auth_login_user('d.archibald84@gmail.com', 'aDeuVK8S2v')\n",
    "\n",
    "if not status:\n",
    "    print(msg)"
   ]
  },
  {
   "cell_type": "markdown",
   "metadata": {},
   "source": [
    "**Data Path** <br>\n",
    "In the cell below, set the path to your dataset, the default is Darwin's example datasets"
   ]
  },
  {
   "cell_type": "code",
   "execution_count": 3,
   "metadata": {
    "scrolled": true
   },
   "outputs": [],
   "source": [
    "path = '../../sets/'"
   ]
  },
  {
   "cell_type": "markdown",
   "metadata": {},
   "source": [
    "## Data Upload and Clean"
   ]
  },
  {
   "cell_type": "markdown",
   "metadata": {},
   "source": [
    "**Read dataset and view a file snippet**"
   ]
  },
  {
   "cell_type": "markdown",
   "metadata": {},
   "source": [
    "After setting up the dataset path, the next step is to upload the dataset from your local device to the server. <br> In the cell below, you need to specify the dataset_name if you want to use your own data."
   ]
  },
  {
   "cell_type": "code",
   "execution_count": 4,
   "metadata": {},
   "outputs": [
    {
     "data": {
      "text/html": [
       "<div>\n",
       "<style scoped>\n",
       "    .dataframe tbody tr th:only-of-type {\n",
       "        vertical-align: middle;\n",
       "    }\n",
       "\n",
       "    .dataframe tbody tr th {\n",
       "        vertical-align: top;\n",
       "    }\n",
       "\n",
       "    .dataframe thead th {\n",
       "        text-align: right;\n",
       "    }\n",
       "</style>\n",
       "<table border=\"1\" class=\"dataframe\">\n",
       "  <thead>\n",
       "    <tr style=\"text-align: right;\">\n",
       "      <th></th>\n",
       "      <th>Object</th>\n",
       "      <th>Epoch (TDB)</th>\n",
       "      <th>a (AU)</th>\n",
       "      <th>e</th>\n",
       "      <th>i (deg)</th>\n",
       "      <th>w (deg)</th>\n",
       "      <th>Node (deg)</th>\n",
       "      <th>M (deg)</th>\n",
       "      <th>q (AU)</th>\n",
       "      <th>Q (AU)</th>\n",
       "      <th>P (yr)</th>\n",
       "      <th>H (mag)</th>\n",
       "      <th>MOID (AU)</th>\n",
       "      <th>ref</th>\n",
       "      <th>class</th>\n",
       "      <th>Object.1</th>\n",
       "    </tr>\n",
       "  </thead>\n",
       "  <tbody>\n",
       "    <tr>\n",
       "      <th>0</th>\n",
       "      <td>1566 Icarus</td>\n",
       "      <td>57800</td>\n",
       "      <td>1.078066</td>\n",
       "      <td>0.826854</td>\n",
       "      <td>22.825495</td>\n",
       "      <td>31.382966</td>\n",
       "      <td>88.010681</td>\n",
       "      <td>215.528772</td>\n",
       "      <td>0.1867</td>\n",
       "      <td>1.97</td>\n",
       "      <td>1.12</td>\n",
       "      <td>16.90</td>\n",
       "      <td>0.034507</td>\n",
       "      <td>100</td>\n",
       "      <td>APO*</td>\n",
       "      <td>1566 Icarus</td>\n",
       "    </tr>\n",
       "    <tr>\n",
       "      <th>1</th>\n",
       "      <td>1620 Geographos</td>\n",
       "      <td>57800</td>\n",
       "      <td>1.245304</td>\n",
       "      <td>0.335342</td>\n",
       "      <td>13.337482</td>\n",
       "      <td>276.893024</td>\n",
       "      <td>337.207958</td>\n",
       "      <td>104.155606</td>\n",
       "      <td>0.8277</td>\n",
       "      <td>1.66</td>\n",
       "      <td>1.39</td>\n",
       "      <td>15.60</td>\n",
       "      <td>0.030669</td>\n",
       "      <td>448</td>\n",
       "      <td>APO*</td>\n",
       "      <td>1620 Geographos</td>\n",
       "    </tr>\n",
       "    <tr>\n",
       "      <th>2</th>\n",
       "      <td>1862 Apollo</td>\n",
       "      <td>55249</td>\n",
       "      <td>1.470264</td>\n",
       "      <td>0.559922</td>\n",
       "      <td>6.352995</td>\n",
       "      <td>285.852564</td>\n",
       "      <td>35.736768</td>\n",
       "      <td>174.626213</td>\n",
       "      <td>0.6470</td>\n",
       "      <td>2.29</td>\n",
       "      <td>1.78</td>\n",
       "      <td>16.25</td>\n",
       "      <td>0.025795</td>\n",
       "      <td>263</td>\n",
       "      <td>APO*</td>\n",
       "      <td>1862 Apollo</td>\n",
       "    </tr>\n",
       "    <tr>\n",
       "      <th>3</th>\n",
       "      <td>1981 Midas</td>\n",
       "      <td>57800</td>\n",
       "      <td>1.776025</td>\n",
       "      <td>0.650141</td>\n",
       "      <td>39.832538</td>\n",
       "      <td>267.791993</td>\n",
       "      <td>356.903343</td>\n",
       "      <td>173.188556</td>\n",
       "      <td>0.6214</td>\n",
       "      <td>2.93</td>\n",
       "      <td>2.37</td>\n",
       "      <td>15.20</td>\n",
       "      <td>0.003551</td>\n",
       "      <td>118</td>\n",
       "      <td>APO*</td>\n",
       "      <td>1981 Midas</td>\n",
       "    </tr>\n",
       "    <tr>\n",
       "      <th>4</th>\n",
       "      <td>2101 Adonis</td>\n",
       "      <td>57800</td>\n",
       "      <td>1.874123</td>\n",
       "      <td>0.764602</td>\n",
       "      <td>1.326400</td>\n",
       "      <td>43.388048</td>\n",
       "      <td>349.694944</td>\n",
       "      <td>235.158622</td>\n",
       "      <td>0.4412</td>\n",
       "      <td>3.31</td>\n",
       "      <td>2.57</td>\n",
       "      <td>18.80</td>\n",
       "      <td>0.011645</td>\n",
       "      <td>33</td>\n",
       "      <td>APO*</td>\n",
       "      <td>2101 Adonis</td>\n",
       "    </tr>\n",
       "  </tbody>\n",
       "</table>\n",
       "</div>"
      ],
      "text/plain": [
       "            Object  Epoch (TDB)    a (AU)         e    i (deg)     w (deg)  \\\n",
       "0      1566 Icarus        57800  1.078066  0.826854  22.825495   31.382966   \n",
       "1  1620 Geographos        57800  1.245304  0.335342  13.337482  276.893024   \n",
       "2      1862 Apollo        55249  1.470264  0.559922   6.352995  285.852564   \n",
       "3       1981 Midas        57800  1.776025  0.650141  39.832538  267.791993   \n",
       "4      2101 Adonis        57800  1.874123  0.764602   1.326400   43.388048   \n",
       "\n",
       "   Node (deg)     M (deg)  q (AU)  Q (AU)  P (yr)  H (mag)  MOID (AU)  ref  \\\n",
       "0   88.010681  215.528772  0.1867    1.97    1.12    16.90   0.034507  100   \n",
       "1  337.207958  104.155606  0.8277    1.66    1.39    15.60   0.030669  448   \n",
       "2   35.736768  174.626213  0.6470    2.29    1.78    16.25   0.025795  263   \n",
       "3  356.903343  173.188556  0.6214    2.93    2.37    15.20   0.003551  118   \n",
       "4  349.694944  235.158622  0.4412    3.31    2.57    18.80   0.011645   33   \n",
       "\n",
       "  class         Object.1  \n",
       "0  APO*      1566 Icarus  \n",
       "1  APO*  1620 Geographos  \n",
       "2  APO*      1862 Apollo  \n",
       "3  APO*       1981 Midas  \n",
       "4  APO*      2101 Adonis  "
      ]
     },
     "execution_count": 4,
     "metadata": {},
     "output_type": "execute_result"
    }
   ],
   "source": [
    "dataset_name = 'pha.csv'\n",
    "df = pd.read_csv(os.path.join(path, dataset_name))\n",
    "df.head()"
   ]
  },
  {
   "cell_type": "markdown",
   "metadata": {},
   "source": [
    "**Upload dataset to Darwin**"
   ]
  },
  {
   "cell_type": "code",
   "execution_count": 11,
   "metadata": {
    "scrolled": true
   },
   "outputs": [],
   "source": [
    "# Upload dataset\n",
    "ds.delete_dataset(dataset_name)\n",
    "status, dataset = ds.upload_dataset(os.path.join(path, dataset_name))\n",
    "if not status:\n",
    "    print(dataset)"
   ]
  },
  {
   "cell_type": "markdown",
   "metadata": {},
   "source": [
    "**Clean dataset**"
   ]
  },
  {
   "cell_type": "code",
   "execution_count": 12,
   "metadata": {},
   "outputs": [
    {
     "name": "stdout",
     "output_type": "stream",
     "text": [
      "{'status': 'Requested', 'starttime': '2019-04-21T12:33:46.855491', 'endtime': None, 'percent_complete': 0, 'job_type': 'CleanDataTiny', 'loss': None, 'generations': None, 'dataset_names': ['pha.csv'], 'artifact_names': ['900a5733434344c88641592e003be769'], 'model_name': None, 'job_error': None}\n",
      "{'status': 'Complete', 'starttime': '2019-04-21T12:33:46.855491', 'endtime': '2019-04-21T12:33:49.226446', 'percent_complete': 100, 'job_type': 'CleanDataTiny', 'loss': None, 'generations': None, 'dataset_names': ['pha.csv'], 'artifact_names': ['900a5733434344c88641592e003be769'], 'model_name': None, 'job_error': ''}\n"
     ]
    }
   ],
   "source": [
    "# clean dataset\n",
    "target = \"class\"\n",
    "status, job_id = ds.clean_data(dataset_name, target = target)\n",
    "\n",
    "if status:\n",
    "    ds.wait_for_job(job_id['job_name'])\n",
    "else:\n",
    "    print(job_id)"
   ]
  },
  {
   "cell_type": "markdown",
   "metadata": {},
   "source": [
    "## Create and Train Model "
   ]
  },
  {
   "cell_type": "markdown",
   "metadata": {},
   "source": [
    "We will now build a model that will learn the class labels in the target column.<br> In the default cancer dataset, the target column is \"Diagnosis\". <br> You will have to specify your own target name for your custom dataset. <br> You can also increase max_train_time for longer training.\n"
   ]
  },
  {
   "cell_type": "code",
   "execution_count": 13,
   "metadata": {
    "scrolled": true
   },
   "outputs": [
    {
     "name": "stdout",
     "output_type": "stream",
     "text": [
      "{'status': 'Requested', 'starttime': '2019-04-21T12:34:09.925899', 'endtime': None, 'percent_complete': 0, 'job_type': 'TrainModel', 'loss': None, 'generations': 0, 'dataset_names': ['pha.csv'], 'artifact_names': None, 'model_name': 'class_model0', 'job_error': None}\n",
      "{'status': 'Running', 'starttime': '2019-04-21T12:34:09.925899', 'endtime': None, 'percent_complete': 4, 'job_type': 'TrainModel', 'loss': 1.0492045879364014, 'generations': 4, 'dataset_names': ['pha.csv'], 'artifact_names': None, 'model_name': 'class_model0', 'job_error': ''}\n",
      "{'status': 'Running', 'starttime': '2019-04-21T12:34:09.925899', 'endtime': None, 'percent_complete': 4, 'job_type': 'TrainModel', 'loss': 1.0492045879364014, 'generations': 4, 'dataset_names': ['pha.csv'], 'artifact_names': None, 'model_name': 'class_model0', 'job_error': ''}\n",
      "{'status': 'Running', 'starttime': '2019-04-21T12:34:09.925899', 'endtime': None, 'percent_complete': 4, 'job_type': 'TrainModel', 'loss': 1.0492045879364014, 'generations': 4, 'dataset_names': ['pha.csv'], 'artifact_names': None, 'model_name': 'class_model0', 'job_error': ''}\n",
      "{'status': 'Running', 'starttime': '2019-04-21T12:34:09.925899', 'endtime': None, 'percent_complete': 4, 'job_type': 'TrainModel', 'loss': 1.0492045879364014, 'generations': 4, 'dataset_names': ['pha.csv'], 'artifact_names': None, 'model_name': 'class_model0', 'job_error': ''}\n",
      "{'status': 'Running', 'starttime': '2019-04-21T12:34:09.925899', 'endtime': None, 'percent_complete': 25, 'job_type': 'TrainModel', 'loss': 1.0492045879364014, 'generations': 4, 'dataset_names': ['pha.csv'], 'artifact_names': None, 'model_name': 'class_model0', 'job_error': ''}\n",
      "{'status': 'Running', 'starttime': '2019-04-21T12:34:09.925899', 'endtime': None, 'percent_complete': 50, 'job_type': 'TrainModel', 'loss': 1.0492045879364014, 'generations': 4, 'dataset_names': ['pha.csv'], 'artifact_names': None, 'model_name': 'class_model0', 'job_error': ''}\n",
      "{'status': 'Running', 'starttime': '2019-04-21T12:34:09.925899', 'endtime': None, 'percent_complete': 50, 'job_type': 'TrainModel', 'loss': 1.0492045879364014, 'generations': 4, 'dataset_names': ['pha.csv'], 'artifact_names': None, 'model_name': 'class_model0', 'job_error': ''}\n",
      "{'status': 'Running', 'starttime': '2019-04-21T12:34:09.925899', 'endtime': None, 'percent_complete': 60, 'job_type': 'TrainModel', 'loss': 1.0492045879364014, 'generations': 4, 'dataset_names': ['pha.csv'], 'artifact_names': None, 'model_name': 'class_model0', 'job_error': ''}\n",
      "{'status': 'Complete', 'starttime': '2019-04-21T12:34:09.925899', 'endtime': '2019-04-21T12:36:15.739195', 'percent_complete': 100, 'job_type': 'TrainModel', 'loss': 1.0492045879364014, 'generations': 4, 'dataset_names': ['pha.csv'], 'artifact_names': None, 'model_name': 'class_model0', 'job_error': ''}\n"
     ]
    }
   ],
   "source": [
    "model = target + \"_model0\"\n",
    "ds.delete_model(model)\n",
    "status, job_id = ds.create_model(dataset_names = dataset_name, \\\n",
    "                                 model_name =  model, \\\n",
    "                                 max_train_time = '00:02')\n",
    "if status:\n",
    "    ds.wait_for_job(job_id['job_name'])\n",
    "else:\n",
    "    print(job_id)"
   ]
  },
  {
   "cell_type": "markdown",
   "metadata": {},
   "source": [
    "## Extra Training (Optional)\n",
    "Run the following cell for extra training, no need to specify parameters"
   ]
  },
  {
   "cell_type": "code",
   "execution_count": 20,
   "metadata": {},
   "outputs": [
    {
     "name": "stdout",
     "output_type": "stream",
     "text": [
      "{'status': 'Requested', 'starttime': '2019-04-18T15:24:03.473112', 'endtime': None, 'percent_complete': 0, 'job_type': 'UpdateModel', 'loss': 1.2340340614318848, 'generations': 2, 'dataset_names': ['pha.csv'], 'artifact_names': None, 'model_name': 'class_model0', 'job_error': None}\n",
      "{'status': 'Running', 'starttime': '2019-04-18T15:24:03.473112', 'endtime': None, 'percent_complete': 0, 'job_type': 'UpdateModel', 'loss': 1.2340340614318848, 'generations': 5, 'dataset_names': ['pha.csv'], 'artifact_names': None, 'model_name': 'class_model0', 'job_error': ''}\n",
      "{'status': 'Running', 'starttime': '2019-04-18T15:24:03.473112', 'endtime': None, 'percent_complete': 0, 'job_type': 'UpdateModel', 'loss': 1.2340340614318848, 'generations': 5, 'dataset_names': ['pha.csv'], 'artifact_names': None, 'model_name': 'class_model0', 'job_error': ''}\n",
      "{'status': 'Running', 'starttime': '2019-04-18T15:24:03.473112', 'endtime': None, 'percent_complete': 0, 'job_type': 'UpdateModel', 'loss': 1.2340340614318848, 'generations': 5, 'dataset_names': ['pha.csv'], 'artifact_names': None, 'model_name': 'class_model0', 'job_error': ''}\n",
      "{'status': 'Running', 'starttime': '2019-04-18T15:24:03.473112', 'endtime': None, 'percent_complete': 12, 'job_type': 'UpdateModel', 'loss': 1.2340340614318848, 'generations': 5, 'dataset_names': ['pha.csv'], 'artifact_names': None, 'model_name': 'class_model0', 'job_error': ''}\n",
      "{'status': 'Running', 'starttime': '2019-04-18T15:24:03.473112', 'endtime': None, 'percent_complete': 12, 'job_type': 'UpdateModel', 'loss': 1.2340340614318848, 'generations': 5, 'dataset_names': ['pha.csv'], 'artifact_names': None, 'model_name': 'class_model0', 'job_error': ''}\n",
      "{'status': 'Running', 'starttime': '2019-04-18T15:24:03.473112', 'endtime': None, 'percent_complete': 20, 'job_type': 'UpdateModel', 'loss': 1.2340340614318848, 'generations': 5, 'dataset_names': ['pha.csv'], 'artifact_names': None, 'model_name': 'class_model0', 'job_error': ''}\n",
      "{'status': 'Running', 'starttime': '2019-04-18T15:24:03.473112', 'endtime': None, 'percent_complete': 27, 'job_type': 'UpdateModel', 'loss': 1.2340340614318848, 'generations': 5, 'dataset_names': ['pha.csv'], 'artifact_names': None, 'model_name': 'class_model0', 'job_error': ''}\n",
      "{'status': 'Running', 'starttime': '2019-04-18T15:24:03.473112', 'endtime': None, 'percent_complete': 33, 'job_type': 'UpdateModel', 'loss': 1.2340340614318848, 'generations': 6, 'dataset_names': ['pha.csv'], 'artifact_names': None, 'model_name': 'class_model0', 'job_error': ''}\n",
      "{'status': 'Running', 'starttime': '2019-04-18T15:24:03.473112', 'endtime': None, 'percent_complete': 33, 'job_type': 'UpdateModel', 'loss': 1.2340340614318848, 'generations': 6, 'dataset_names': ['pha.csv'], 'artifact_names': None, 'model_name': 'class_model0', 'job_error': ''}\n",
      "{'status': 'Running', 'starttime': '2019-04-18T15:24:03.473112', 'endtime': None, 'percent_complete': 38, 'job_type': 'UpdateModel', 'loss': 1.2340340614318848, 'generations': 7, 'dataset_names': ['pha.csv'], 'artifact_names': None, 'model_name': 'class_model0', 'job_error': ''}\n",
      "{'status': 'Running', 'starttime': '2019-04-18T15:24:03.473112', 'endtime': None, 'percent_complete': 46, 'job_type': 'UpdateModel', 'loss': 1.2340340614318848, 'generations': 8, 'dataset_names': ['pha.csv'], 'artifact_names': None, 'model_name': 'class_model0', 'job_error': ''}\n",
      "{'status': 'Running', 'starttime': '2019-04-18T15:24:03.473112', 'endtime': None, 'percent_complete': 46, 'job_type': 'UpdateModel', 'loss': 1.2340340614318848, 'generations': 8, 'dataset_names': ['pha.csv'], 'artifact_names': None, 'model_name': 'class_model0', 'job_error': ''}\n",
      "{'status': 'Running', 'starttime': '2019-04-18T15:24:03.473112', 'endtime': None, 'percent_complete': 53, 'job_type': 'UpdateModel', 'loss': 1.2340340614318848, 'generations': 9, 'dataset_names': ['pha.csv'], 'artifact_names': None, 'model_name': 'class_model0', 'job_error': ''}\n",
      "{'status': 'Running', 'starttime': '2019-04-18T15:24:03.473112', 'endtime': None, 'percent_complete': 53, 'job_type': 'UpdateModel', 'loss': 1.2340340614318848, 'generations': 9, 'dataset_names': ['pha.csv'], 'artifact_names': None, 'model_name': 'class_model0', 'job_error': ''}\n",
      "{'status': 'Running', 'starttime': '2019-04-18T15:24:03.473112', 'endtime': None, 'percent_complete': 61, 'job_type': 'UpdateModel', 'loss': 1.2340340614318848, 'generations': 10, 'dataset_names': ['pha.csv'], 'artifact_names': None, 'model_name': 'class_model0', 'job_error': ''}\n",
      "{'status': 'Running', 'starttime': '2019-04-18T15:24:03.473112', 'endtime': None, 'percent_complete': 69, 'job_type': 'UpdateModel', 'loss': 1.2340340614318848, 'generations': 11, 'dataset_names': ['pha.csv'], 'artifact_names': None, 'model_name': 'class_model0', 'job_error': ''}\n",
      "{'status': 'Running', 'starttime': '2019-04-18T15:24:03.473112', 'endtime': None, 'percent_complete': 69, 'job_type': 'UpdateModel', 'loss': 1.2340340614318848, 'generations': 11, 'dataset_names': ['pha.csv'], 'artifact_names': None, 'model_name': 'class_model0', 'job_error': ''}\n",
      "{'status': 'Running', 'starttime': '2019-04-18T15:24:03.473112', 'endtime': None, 'percent_complete': 76, 'job_type': 'UpdateModel', 'loss': 1.2340340614318848, 'generations': 12, 'dataset_names': ['pha.csv'], 'artifact_names': None, 'model_name': 'class_model0', 'job_error': ''}\n",
      "{'status': 'Running', 'starttime': '2019-04-18T15:24:03.473112', 'endtime': None, 'percent_complete': 84, 'job_type': 'UpdateModel', 'loss': 1.2340340614318848, 'generations': 13, 'dataset_names': ['pha.csv'], 'artifact_names': None, 'model_name': 'class_model0', 'job_error': ''}\n",
      "{'status': 'Running', 'starttime': '2019-04-18T15:24:03.473112', 'endtime': None, 'percent_complete': 84, 'job_type': 'UpdateModel', 'loss': 1.2340340614318848, 'generations': 13, 'dataset_names': ['pha.csv'], 'artifact_names': None, 'model_name': 'class_model0', 'job_error': ''}\n",
      "{'status': 'Complete', 'starttime': '2019-04-18T15:24:03.473112', 'endtime': '2019-04-18T15:29:12.147626', 'percent_complete': 100, 'job_type': 'UpdateModel', 'loss': 1.2340340614318848, 'generations': 13, 'dataset_names': ['pha.csv'], 'artifact_names': None, 'model_name': 'class_model0', 'job_error': ''}\n"
     ]
    }
   ],
   "source": [
    "# Train some more\n",
    "status, job_id = ds.resume_training_model(dataset_names = dataset_name,\n",
    "                                          model_name = model,\n",
    "                                          max_train_time = '00:05')\n",
    "                                          \n",
    "if status:\n",
    "    ds.wait_for_job(job_id['job_name'])\n",
    "else:\n",
    "    print(job_id)"
   ]
  },
  {
   "cell_type": "markdown",
   "metadata": {},
   "source": [
    "## Analyze Model\n",
    "Analyze model provides feature importance ranked by the model. <br> It indicates a general view of which features pose a bigger impact on the model"
   ]
  },
  {
   "cell_type": "code",
   "execution_count": 14,
   "metadata": {
    "scrolled": true
   },
   "outputs": [
    {
     "name": "stdout",
     "output_type": "stream",
     "text": [
      "{'status': 'Running', 'starttime': '2019-04-21T12:40:31.178918', 'endtime': None, 'percent_complete': 0, 'job_type': 'AnalyzeModel', 'loss': 1.0492045879364014, 'generations': 4, 'dataset_names': None, 'artifact_names': ['9f0fbf4b4a104251927d267fe9644c63'], 'model_name': 'class_model0', 'job_error': ''}\n",
      "{'status': 'Complete', 'starttime': '2019-04-21T12:40:31.178918', 'endtime': '2019-04-21T12:40:39.673136', 'percent_complete': 100, 'job_type': 'AnalyzeModel', 'loss': 1.0492045879364014, 'generations': 4, 'dataset_names': None, 'artifact_names': ['9f0fbf4b4a104251927d267fe9644c63'], 'model_name': 'class_model0', 'job_error': ''}\n"
     ]
    }
   ],
   "source": [
    "# Retrieve feature importance of built model\n",
    "status, artifact = ds.analyze_model(model)\n",
    "sleep(1)\n",
    "if status:\n",
    "    ds.wait_for_job(artifact['job_name'])\n",
    "else:\n",
    "    print(artifact)\n",
    "status, feature_importance = ds.download_artifact(artifact['artifact_name'])"
   ]
  },
  {
   "cell_type": "markdown",
   "metadata": {},
   "source": [
    "Show the 10 most important features of the model."
   ]
  },
  {
   "cell_type": "code",
   "execution_count": 16,
   "metadata": {},
   "outputs": [
    {
     "data": {
      "text/plain": [
       "q (AU)         0.295871\n",
       "P (yr)         0.273159\n",
       "a (AU)         0.216002\n",
       "H (mag)        0.066087\n",
       "Q (AU)         0.064604\n",
       "e              0.018283\n",
       "w (deg)        0.015631\n",
       "MOID (AU)      0.014860\n",
       "Node (deg)     0.010012\n",
       "ref            0.008824\n",
       "M (deg)        0.008509\n",
       "i (deg)        0.007308\n",
       "Epoch (TDB)    0.000850\n",
       "dtype: float64"
      ]
     },
     "execution_count": 16,
     "metadata": {},
     "output_type": "execute_result"
    }
   ],
   "source": [
    "feature_importance[:]"
   ]
  },
  {
   "cell_type": "markdown",
   "metadata": {},
   "source": [
    "## Predictions\n",
    "**Perform model prediction on the the training dataset.**"
   ]
  },
  {
   "cell_type": "code",
   "execution_count": 17,
   "metadata": {
    "scrolled": true
   },
   "outputs": [
    {
     "name": "stdout",
     "output_type": "stream",
     "text": [
      "{'status': 'Running', 'starttime': '2019-04-21T12:53:56.402763', 'endtime': None, 'percent_complete': 0, 'job_type': 'RunModel', 'loss': 1.0492045879364014, 'generations': 4, 'dataset_names': ['pha.csv'], 'artifact_names': ['6b373f7dc6f1408791747986fb783302'], 'model_name': 'class_model0', 'job_error': ''}\n",
      "{'status': 'Complete', 'starttime': '2019-04-21T12:53:56.402763', 'endtime': '2019-04-21T12:53:58.108148', 'percent_complete': 100, 'job_type': 'RunModel', 'loss': 1.0492045879364014, 'generations': 4, 'dataset_names': ['pha.csv'], 'artifact_names': ['6b373f7dc6f1408791747986fb783302'], 'model_name': 'class_model0', 'job_error': ''}\n"
     ]
    },
    {
     "data": {
      "text/plain": [
       "(True, 'Job completed')"
      ]
     },
     "execution_count": 17,
     "metadata": {},
     "output_type": "execute_result"
    }
   ],
   "source": [
    "status, artifact = ds.run_model(dataset_name, model)\n",
    "sleep(1)\n",
    "ds.wait_for_job(artifact['job_name'])"
   ]
  },
  {
   "cell_type": "markdown",
   "metadata": {},
   "source": [
    "Download predictions from Darwin's server."
   ]
  },
  {
   "cell_type": "code",
   "execution_count": 18,
   "metadata": {
    "scrolled": true
   },
   "outputs": [
    {
     "data": {
      "text/html": [
       "<div>\n",
       "<style scoped>\n",
       "    .dataframe tbody tr th:only-of-type {\n",
       "        vertical-align: middle;\n",
       "    }\n",
       "\n",
       "    .dataframe tbody tr th {\n",
       "        vertical-align: top;\n",
       "    }\n",
       "\n",
       "    .dataframe thead th {\n",
       "        text-align: right;\n",
       "    }\n",
       "</style>\n",
       "<table border=\"1\" class=\"dataframe\">\n",
       "  <thead>\n",
       "    <tr style=\"text-align: right;\">\n",
       "      <th></th>\n",
       "      <th>class</th>\n",
       "      <th>prob_AMO*</th>\n",
       "      <th>prob_APO</th>\n",
       "      <th>prob_APO*</th>\n",
       "      <th>prob_ATE</th>\n",
       "      <th>prob_ATE*</th>\n",
       "      <th>prob_IEO*</th>\n",
       "    </tr>\n",
       "  </thead>\n",
       "  <tbody>\n",
       "    <tr>\n",
       "      <th>0</th>\n",
       "      <td>APO*</td>\n",
       "      <td>0.000152</td>\n",
       "      <td>0.000016</td>\n",
       "      <td>0.999832</td>\n",
       "      <td>0.0</td>\n",
       "      <td>0.000000</td>\n",
       "      <td>0.0</td>\n",
       "    </tr>\n",
       "    <tr>\n",
       "      <th>1</th>\n",
       "      <td>APO*</td>\n",
       "      <td>0.003012</td>\n",
       "      <td>0.000016</td>\n",
       "      <td>0.996949</td>\n",
       "      <td>0.0</td>\n",
       "      <td>0.000022</td>\n",
       "      <td>0.0</td>\n",
       "    </tr>\n",
       "    <tr>\n",
       "      <th>2</th>\n",
       "      <td>APO*</td>\n",
       "      <td>0.000854</td>\n",
       "      <td>0.000016</td>\n",
       "      <td>0.999081</td>\n",
       "      <td>0.0</td>\n",
       "      <td>0.000049</td>\n",
       "      <td>0.0</td>\n",
       "    </tr>\n",
       "    <tr>\n",
       "      <th>3</th>\n",
       "      <td>APO*</td>\n",
       "      <td>0.000198</td>\n",
       "      <td>0.000016</td>\n",
       "      <td>0.999737</td>\n",
       "      <td>0.0</td>\n",
       "      <td>0.000049</td>\n",
       "      <td>0.0</td>\n",
       "    </tr>\n",
       "    <tr>\n",
       "      <th>4</th>\n",
       "      <td>APO*</td>\n",
       "      <td>0.000480</td>\n",
       "      <td>0.000000</td>\n",
       "      <td>0.999471</td>\n",
       "      <td>0.0</td>\n",
       "      <td>0.000049</td>\n",
       "      <td>0.0</td>\n",
       "    </tr>\n",
       "  </tbody>\n",
       "</table>\n",
       "</div>"
      ],
      "text/plain": [
       "  class  prob_AMO*  prob_APO  prob_APO*  prob_ATE  prob_ATE*  prob_IEO*\n",
       "0  APO*   0.000152  0.000016   0.999832       0.0   0.000000        0.0\n",
       "1  APO*   0.003012  0.000016   0.996949       0.0   0.000022        0.0\n",
       "2  APO*   0.000854  0.000016   0.999081       0.0   0.000049        0.0\n",
       "3  APO*   0.000198  0.000016   0.999737       0.0   0.000049        0.0\n",
       "4  APO*   0.000480  0.000000   0.999471       0.0   0.000049        0.0"
      ]
     },
     "execution_count": 18,
     "metadata": {},
     "output_type": "execute_result"
    }
   ],
   "source": [
    "status, prediction = ds.download_artifact(artifact['artifact_name'])\n",
    "prediction.head()"
   ]
  },
  {
   "cell_type": "markdown",
   "metadata": {},
   "source": [
    "Create plots comparing predictions with actual target"
   ]
  },
  {
   "cell_type": "code",
   "execution_count": 19,
   "metadata": {
    "scrolled": true
   },
   "outputs": [
    {
     "name": "stdout",
     "output_type": "stream",
     "text": [
      "              precision    recall  f1-score   support\n",
      "\n",
      "        AMO*       1.00      1.00      1.00        77\n",
      "         APO       1.00      1.00      1.00        11\n",
      "        APO*       1.00      1.00      1.00      1268\n",
      "         ATE       1.00      1.00      1.00         7\n",
      "        ATE*       1.00      1.00      1.00       132\n",
      "        IEO*       1.00      1.00      1.00         4\n",
      "\n",
      "   micro avg       1.00      1.00      1.00      1499\n",
      "   macro avg       1.00      1.00      1.00      1499\n",
      "weighted avg       1.00      1.00      1.00      1499\n",
      "\n"
     ]
    },
    {
     "data": {
      "image/png": "[encoded data removed]",
      "text/plain": [
       "<Figure size 432x288 with 1 Axes>"
      ]
     },
     "metadata": {
      "needs_background": "light"
     },
     "output_type": "display_data"
    }
   ],
   "source": [
    "unq = prediction[target].unique()[::-1]\n",
    "p = np.zeros((len(prediction),))\n",
    "a = np.zeros((len(prediction),))\n",
    "for i,q in enumerate(unq):\n",
    "    p += i*(prediction[target] == q).values\n",
    "    a += i*(df[target] == q).values\n",
    "#Plot predictions vs actual\n",
    "plt.plot(a)\n",
    "plt.plot(p)\n",
    "plt.legend(['Actual','Predicted'])\n",
    "plt.yticks([i for i in range(len(unq))],[q for q in unq]);\n",
    "print(classification_report(df[target], prediction[target]))"
   ]
  },
  {
   "cell_type": "markdown",
   "metadata": {},
   "source": [
    "**Perform model prediction on a test dataset that wasn't used in training.** <br>\n",
    "Upload test dataset"
   ]
  },
  {
   "cell_type": "code",
   "execution_count": 21,
   "metadata": {
    "scrolled": true
   },
   "outputs": [],
   "source": [
    "test_data = 'pha_test.csv'\n",
    "ds.delete_dataset(test_data)\n",
    "status, dataset = ds.upload_dataset(os.path.join(path, test_data))\n",
    "if not status:\n",
    "    print(dataset)"
   ]
  },
  {
   "cell_type": "markdown",
   "metadata": {},
   "source": [
    "clean test data"
   ]
  },
  {
   "cell_type": "code",
   "execution_count": 22,
   "metadata": {},
   "outputs": [
    {
     "name": "stdout",
     "output_type": "stream",
     "text": [
      "{'status': 'Requested', 'starttime': '2019-04-21T13:03:13.556655', 'endtime': None, 'percent_complete': 0, 'job_type': 'CleanDataTiny', 'loss': None, 'generations': None, 'dataset_names': ['pha_test.csv'], 'artifact_names': ['85728a9aaf1c4561915d671dd6ba7ed9'], 'model_name': None, 'job_error': None}\n",
      "{'status': 'Complete', 'starttime': '2019-04-21T13:03:13.556655', 'endtime': '2019-04-21T13:03:15.254457', 'percent_complete': 100, 'job_type': 'CleanDataTiny', 'loss': None, 'generations': None, 'dataset_names': ['pha_test.csv'], 'artifact_names': ['85728a9aaf1c4561915d671dd6ba7ed9'], 'model_name': None, 'job_error': ''}\n"
     ]
    }
   ],
   "source": [
    "# clean test dataset\n",
    "status, job_id = ds.clean_data(test_data, target = target, model_name = model)\n",
    "\n",
    "if status:\n",
    "    ds.wait_for_job(job_id['job_name'])\n",
    "else:\n",
    "    print(job_id)"
   ]
  },
  {
   "cell_type": "markdown",
   "metadata": {},
   "source": [
    "Run model on test dataset."
   ]
  },
  {
   "cell_type": "code",
   "execution_count": 23,
   "metadata": {
    "scrolled": true
   },
   "outputs": [
    {
     "name": "stdout",
     "output_type": "stream",
     "text": [
      "{'status': 'Running', 'starttime': '2019-04-21T13:04:05.217653', 'endtime': None, 'percent_complete': 0, 'job_type': 'RunModel', 'loss': 1.0492045879364014, 'generations': 4, 'dataset_names': ['pha_test.csv'], 'artifact_names': ['8ee86b24cc4742c08f9f43e3d4a60b17'], 'model_name': 'class_model0', 'job_error': ''}\n",
      "{'status': 'Complete', 'starttime': '2019-04-21T13:04:05.217653', 'endtime': '2019-04-21T13:04:14.312452', 'percent_complete': 100, 'job_type': 'RunModel', 'loss': 1.0492045879364014, 'generations': 4, 'dataset_names': ['pha_test.csv'], 'artifact_names': ['8ee86b24cc4742c08f9f43e3d4a60b17'], 'model_name': 'class_model0', 'job_error': ''}\n"
     ]
    },
    {
     "data": {
      "text/plain": [
       "(True, 'Job completed')"
      ]
     },
     "execution_count": 23,
     "metadata": {},
     "output_type": "execute_result"
    }
   ],
   "source": [
    "status, artifact = ds.run_model(test_data, model)\n",
    "sleep(1)\n",
    "ds.wait_for_job(artifact['job_name'])"
   ]
  },
  {
   "cell_type": "markdown",
   "metadata": {},
   "source": [
    "Create plots comparing predictions with actual target"
   ]
  },
  {
   "cell_type": "code",
   "execution_count": 24,
   "metadata": {},
   "outputs": [
    {
     "name": "stdout",
     "output_type": "stream",
     "text": [
      "              precision    recall  f1-score   support\n",
      "\n",
      "        AMO*       1.00      0.95      0.97        19\n",
      "         APO       1.00      1.00      1.00         3\n",
      "        APO*       1.00      1.00      1.00       209\n",
      "        ATE*       1.00      1.00      1.00        17\n",
      "        IEO*       1.00      1.00      1.00         1\n",
      "\n",
      "   micro avg       1.00      1.00      1.00       249\n",
      "   macro avg       1.00      0.99      0.99       249\n",
      "weighted avg       1.00      1.00      1.00       249\n",
      "\n"
     ]
    },
    {
     "data": {
      "image/png": "[encoded data removed]",
      "text/plain": [
       "<Figure size 432x288 with 1 Axes>"
      ]
     },
     "metadata": {
      "needs_background": "light"
     },
     "output_type": "display_data"
    }
   ],
   "source": [
    "# Create plots comparing predictions with actual target\n",
    "status, prediction = ds.download_artifact(artifact['artifact_name'])\n",
    "df = pd.read_csv(os.path.join(path,test_data))\n",
    "unq = prediction[target].unique()[::-1]\n",
    "p = np.zeros((len(prediction),))\n",
    "a = np.zeros((len(prediction),))\n",
    "for i,q in enumerate(unq):\n",
    "    p += i*(prediction[target] == q).values\n",
    "    a += i*(df[target] == q).values\n",
    "#Plot predictions vs actual\n",
    "plt.plot(a)\n",
    "plt.plot(p)\n",
    "plt.legend(['Actual','Predicted'])\n",
    "plt.yticks([i for i in range(len(unq))],[q for q in unq]);\n",
    "print(classification_report(df[target], prediction[target]))"
   ]
  },
  {
   "cell_type": "markdown",
   "metadata": {},
   "source": [
    "## Find out which machine learning model did Darwin use:"
   ]
  },
  {
   "cell_type": "code",
   "execution_count": 25,
   "metadata": {},
   "outputs": [
    {
     "name": "stdout",
     "output_type": "stream",
     "text": [
      "{'type': 'RandomForestClassifier', 'parameters': {'bootstrap': False, 'criterion': 'entropy', 'max_depth': 4, 'max_features': 0.7376889804183513, 'max_leaf_nodes': None, 'min_impurity_decrease': 0.0, 'min_samples_leaf': 4, 'min_samples_split': 16, 'n_jobs': -1, 'min_weight_fraction_leaf': 0.0, 'n_estimators': 219}}\n"
     ]
    }
   ],
   "source": [
    "status, model_type = ds.lookup_model_name(model)\n",
    "print(model_type['description']['best_genome'])"
   ]
  },
  {
   "cell_type": "markdown",
   "metadata": {},
   "source": [
    "### Outcome  \n",
    "It seems that the model we built ended up using a Random Forest Classifier (explain what it is here). This is actually the model that Professor Beasley predicted would do best. Because the dataset is on the smaller side, it struggles inside a neural network classifier since neural networks are best used when there is a lot of data. We are fairly limited to what space agencies have discovered, and therefore are rather limited on sample size. We were able to acheive a very high precision and recall, but we agreed that this is also indicative of a smaller dataset and perhaps a lack of variety in the dataset, since many asteroids are close to each other. This is discussed in a little more detail in the paper for this project.  \n",
    "#### Did we solve the problem?  \n",
    "Overall, we believe that we did solve the problem. This is an accurate system that can help predict the danger of new near-earth objects. Since we discussed that asteroids are often very close to each other, it could be possible that this system would be useful if asteroids crashed into each other and changed their positioning or velocity, or if the asteroid fragmented into smaller asteroids. The smaller asteroids could then be classified using this model, and would play nicely with the model. We believe that with a dataset that went out further and expanded over further objects may be even more useful in classifying new objects since there would be more data on objects that were not necessarily near earth objects but may become near earth objects that would need to be classified. However, we solved a more specific problem in this case, since not all near earth objects are actually dangerous, and it is even more important to figure out which ones are."
   ]
  },
  {
   "cell_type": "code",
   "execution_count": null,
   "metadata": {},
   "outputs": [],
   "source": []
  }
 ],
 "metadata": {
  "anaconda-cloud": {},
  "kernelspec": {
   "display_name": "Python 3",
   "language": "python",
   "name": "python3"
  },
  "language_info": {
   "codemirror_mode": {
    "name": "ipython",
    "version": 3
   },
   "file_extension": ".py",
   "mimetype": "text/x-python",
   "name": "python",
   "nbconvert_exporter": "python",
   "pygments_lexer": "ipython3",
   "version": "3.7.1"
  }
 },
 "nbformat": 4,
 "nbformat_minor": 2
}
